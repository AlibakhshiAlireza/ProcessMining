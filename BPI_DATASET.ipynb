{
  "cells": [
    {
      "cell_type": "code",
      "execution_count": 1,
      "metadata": {
        "id": "XDhrDvB5N-rU",
        "colab": {
          "base_uri": "https://localhost:8080/",
          "height": 36
        },
        "outputId": "ee33d4ac-8235-49c8-eecd-6ad8e8031ced"
      },
      "outputs": [
        {
          "output_type": "execute_result",
          "data": {
            "text/plain": [
              "''"
            ],
            "application/vnd.google.colaboratory.intrinsic+json": {
              "type": "string"
            }
          },
          "metadata": {},
          "execution_count": 1
        }
      ],
      "source": [
        "import tensorflow as tf\n",
        "tf.test.gpu_device_name()"
      ]
    },
    {
      "cell_type": "code",
      "execution_count": 2,
      "metadata": {
        "id": "igqKGpIqTaq7"
      },
      "outputs": [],
      "source": [
        "import warnings\n",
        "warnings.filterwarnings(\"ignore\")"
      ]
    },
    {
      "cell_type": "markdown",
      "metadata": {
        "id": "t0xi7_Swo-Fq"
      },
      "source": [
        "# Data Disc. and prep."
      ]
    },
    {
      "cell_type": "code",
      "execution_count": null,
      "metadata": {
        "id": "vn2qdO0ESajL"
      },
      "outputs": [],
      "source": [
        "pip install pm4py"
      ]
    },
    {
      "cell_type": "code",
      "execution_count": 4,
      "metadata": {
        "id": "GGtQ8UYOSEev"
      },
      "outputs": [],
      "source": [
        "import pandas as pd\n",
        "import numpy as np\n",
        "import matplotlib.pyplot as plt\n",
        "import seaborn as sns\n",
        "import missingno as mn\n",
        "import pm4py\n",
        "from scipy.stats.mstats import winsorize"
      ]
    },
    {
      "cell_type": "code",
      "source": [
        "from google.colab import drive\n",
        "drive.mount('/content/drive')"
      ],
      "metadata": {
        "id": "9C8GoRaT8wS0"
      },
      "execution_count": null,
      "outputs": []
    },
    {
      "cell_type": "code",
      "execution_count": null,
      "metadata": {
        "id": "oTRnx2EzShMc"
      },
      "outputs": [],
      "source": [
        "log = pm4py.read_xes('/content/drive/MyDrive/BPI Dataset/Road_Traffic_Fine_Management_Process (1).xes')\n",
        "df = pm4py.convert_to_dataframe(log)\n",
        "df"
      ]
    },
    {
      "cell_type": "markdown",
      "metadata": {
        "id": "FqgF-Aw0NXDU"
      },
      "source": [
        "# Data preproc"
      ]
    },
    {
      "cell_type": "code",
      "execution_count": null,
      "metadata": {
        "id": "AKqafWsOy7PY"
      },
      "outputs": [],
      "source": [
        "df"
      ]
    },
    {
      "cell_type": "code",
      "execution_count": null,
      "metadata": {
        "id": "JC163UTg0SrL"
      },
      "outputs": [],
      "source": [
        "df['concept:name'].unique()"
      ]
    },
    {
      "cell_type": "code",
      "execution_count": null,
      "metadata": {
        "id": "DC9RhaVU4mOI"
      },
      "outputs": [],
      "source": [
        "df['case:concept:name']"
      ]
    },
    {
      "cell_type": "code",
      "execution_count": null,
      "metadata": {
        "id": "9-ErawAx2al2"
      },
      "outputs": [],
      "source": [
        "sum(df['case:concept:name'] == \"A1\")"
      ]
    },
    {
      "cell_type": "code",
      "execution_count": null,
      "metadata": {
        "id": "3nfr8DyLWb4E"
      },
      "outputs": [],
      "source": [
        "df['notificationType'] = df['notificationType'].replace('NaN',np.nan)\n",
        "df['notificationType'].unique()"
      ]
    },
    {
      "cell_type": "code",
      "execution_count": null,
      "metadata": {
        "id": "grwUwAhfZIJ-"
      },
      "outputs": [],
      "source": [
        "pd.unique(df['case:concept:name'])"
      ]
    },
    {
      "cell_type": "code",
      "execution_count": null,
      "metadata": {
        "id": "UnCJGevoZSdO"
      },
      "outputs": [],
      "source": [
        "df['case:concept:name'].describe()"
      ]
    },
    {
      "cell_type": "code",
      "execution_count": null,
      "metadata": {
        "id": "gps4v4V8QU3b"
      },
      "outputs": [],
      "source": [
        "pd.to_datetime(df['time:timestamp'],utc=True)"
      ]
    },
    {
      "cell_type": "code",
      "execution_count": null,
      "metadata": {
        "id": "UKlb9nt7OT5r"
      },
      "outputs": [],
      "source": [
        "#find missings\n",
        "mn.matrix(df)"
      ]
    },
    {
      "cell_type": "code",
      "execution_count": null,
      "metadata": {
        "id": "BqtNUPvuK-Uz"
      },
      "outputs": [],
      "source": [
        "#Vehicleclass->Create Fine\n",
        "df_vehicleclass = df[df['concept:name'] == \"Create Fine\"]\n",
        "sns.countplot(x ='vehicleClass', data=df_vehicleclass)"
      ]
    },
    {
      "cell_type": "code",
      "execution_count": null,
      "metadata": {
        "id": "ddNBTgzeMG_u"
      },
      "outputs": [],
      "source": [
        "#find dismidal missings\n",
        "df['dismissal'].unique()\n",
        "df.dismissal.isnull()\n",
        "x = df.loc[~df.dismissal.isnull()]\n",
        "x['concept:name'].unique()\n",
        "df_dismissal = df[df['concept:name'] == (\"Create Fine\" or \"Send Appeal to Prefecture\" or \"Appeal to Judge\")]\n",
        "df_dismissal\n",
        "mn.matrix(df_dismissal)"
      ]
    },
    {
      "cell_type": "code",
      "execution_count": null,
      "metadata": {
        "id": "MQWT4a8rMQaz"
      },
      "outputs": [],
      "source": [
        "#find article missings\n",
        "df['article'].unique()\n",
        "df.article.isnull()\n",
        "x = df.loc[~df.article.isnull()]\n",
        "x['concept:name'].unique()\n",
        "dfarticle = df[df['concept:name'] == (\"Create Fine\")]\n",
        "mn.matrix(dfarticle)"
      ]
    },
    {
      "cell_type": "code",
      "execution_count": null,
      "metadata": {
        "id": "ElF33DMwMoAO"
      },
      "outputs": [],
      "source": [
        "def findactivity(k):\n",
        "  x = df.loc[~df[k].isnull()]\n",
        "  f = x['concept:name'].unique()\n",
        "  h = list(map(lambda x:x,f))\n",
        "  return h\n",
        "def showactivity(x):\n",
        "  dfx = df[df['concept:name'] == (x)]\n",
        "  return mn.matrix(dfx)"
      ]
    },
    {
      "cell_type": "code",
      "execution_count": null,
      "metadata": {
        "id": "u5XF0S9fhVPM"
      },
      "outputs": [],
      "source": [
        "df.head()"
      ]
    },
    {
      "cell_type": "code",
      "execution_count": null,
      "metadata": {
        "id": "SfyHrQ0khHpU"
      },
      "outputs": [],
      "source": [
        "findactivity(\"amount\")"
      ]
    },
    {
      "cell_type": "code",
      "execution_count": null,
      "metadata": {
        "id": "gp2VuN8fhJki"
      },
      "outputs": [],
      "source": [
        "showactivity('Create Fine'or 'Add penalty')"
      ]
    },
    {
      "cell_type": "markdown",
      "metadata": {
        "id": "TgnuBX78pJG4"
      },
      "source": [
        "# Finding Outliers"
      ]
    },
    {
      "cell_type": "code",
      "execution_count": null,
      "metadata": {
        "id": "U3WBf-CspP8A"
      },
      "outputs": [],
      "source": [
        "findactivity(\"amount\")\n",
        "sns.boxplot(x=\"amount\",data=df[(df['concept:name'] == ('Create Fine' or 'Add penalty'))])"
      ]
    },
    {
      "cell_type": "code",
      "execution_count": null,
      "metadata": {
        "id": "m2pZwHfovBZ3"
      },
      "outputs": [],
      "source": [
        "#Outer fences of the variable CRIM\n",
        "def fences(df, variable_name):    \n",
        "    q1 = df[variable_name].quantile(0.25)\n",
        "    q3 = df[variable_name].quantile(0.75)\n",
        "    iqr = q3-q1\n",
        "    outer_fence = 3*iqr\n",
        "    outer_fence_le = q1-outer_fence\n",
        "    outer_fence_ue = q3+outer_fence\n",
        "    return outer_fence_le, outer_fence_ue\n",
        "\n",
        "outer_fence_le, outer_fence_ue = fences(df[df['concept:name'] == ('Create Fine' or 'Add penalty')], 'amount')\n",
        "print('Lower end outer fence: ', outer_fence_le)\n",
        "print('Upper end outer fence: ', outer_fence_ue)"
      ]
    },
    {
      "cell_type": "code",
      "execution_count": null,
      "metadata": {
        "id": "1BbtKeH1xsXR"
      },
      "outputs": [],
      "source": [
        "xd = df[df['concept:name'] == ('Create Fine' or 'Add penalty')]"
      ]
    },
    {
      "cell_type": "code",
      "execution_count": null,
      "metadata": {
        "id": "acuOgNP0x9dk"
      },
      "outputs": [],
      "source": [
        "xd['amount'] = winsorize(xd['amount'].values, limits = [0, 0.09]).data"
      ]
    },
    {
      "cell_type": "code",
      "execution_count": null,
      "metadata": {
        "id": "d5QIIqE2w3CK"
      },
      "outputs": [],
      "source": [
        "sns.boxplot(x='amount',data = xd)"
      ]
    },
    {
      "cell_type": "code",
      "execution_count": null,
      "metadata": {
        "id": "OpYtZxaIsjZn"
      },
      "outputs": [],
      "source": [
        "sns.displot(xd, x=\"amount\",bins = 10)\n",
        "sns.displot(df, x=\"amount\",bins = 5)"
      ]
    },
    {
      "cell_type": "code",
      "execution_count": null,
      "metadata": {
        "id": "ahkAcBRlzrma"
      },
      "outputs": [],
      "source": [
        "findactivity(\"notificationType\")\n",
        "showactivity('Insert Fine Notification')"
      ]
    },
    {
      "cell_type": "code",
      "execution_count": null,
      "metadata": {
        "id": "TPYytF-E0Cpv"
      },
      "outputs": [],
      "source": [
        "findactivity(\"expense\")"
      ]
    },
    {
      "cell_type": "code",
      "execution_count": null,
      "metadata": {
        "id": "C5fTT0lh06t8"
      },
      "outputs": [],
      "source": [
        "xf = df[df['concept:name'] == ('Send Fine')]\n",
        "xfa = df[df['concept:name'] == ('Send Fine')]\n",
        "xfa2 = df[df['concept:name'] == ('Send Fine')]"
      ]
    },
    {
      "cell_type": "code",
      "execution_count": null,
      "metadata": {
        "id": "Ni3tWHZmlpgT"
      },
      "outputs": [],
      "source": [
        "fences(xf,'expense')"
      ]
    },
    {
      "cell_type": "code",
      "execution_count": null,
      "metadata": {
        "id": "h4NV6YkG1GdE"
      },
      "outputs": [],
      "source": [
        "#sns.boxplot(x='expense',data = xf)\n",
        "fences(xf,'expense')\n",
        "sns.boxplot(x='expense',data = xf[xf['expense']<24.0])"
      ]
    },
    {
      "cell_type": "code",
      "execution_count": null,
      "metadata": {
        "id": "v-QKFmg9mSTN"
      },
      "outputs": [],
      "source": [
        "zzz = df['case:concept:name'].unique()\n",
        "len(zzz)"
      ]
    },
    {
      "cell_type": "code",
      "execution_count": null,
      "metadata": {
        "id": "AA9b-GzulAxS"
      },
      "outputs": [],
      "source": [
        "xfa2 = xf[xf['expense']>24]\n",
        "zz = xfa2['case:concept:name'].unique()\n",
        "len(zz)"
      ]
    },
    {
      "cell_type": "code",
      "execution_count": null,
      "metadata": {
        "id": "RNBZXI5h1uaN"
      },
      "outputs": [],
      "source": [
        "xfa['expense'] = winsorize(xf['expense'].values, limits = [0, 0.09]).data\n",
        "sns.boxplot(x='expense',data = xfa)"
      ]
    },
    {
      "cell_type": "code",
      "execution_count": null,
      "metadata": {
        "id": "jvv45sgYQ2Rd"
      },
      "outputs": [],
      "source": [
        "findactivity(\"article\")\n",
        "xa = df[df['concept:name'] == ('Create Fine')]\n",
        "xa.article = xa.article.astype(str)\n",
        "uxa =xa.article.unique()\n",
        "plt.figure(figsize=(50,8))\n",
        "sns.countplot(x=\"article\",data=xa[xa[\"article\"]!=('7.0' and '157.0' and '158.0')])"
      ]
    },
    {
      "cell_type": "markdown",
      "metadata": {
        "id": "GR9t5Wgop0M5"
      },
      "source": [
        "\n",
        "\n",
        "# Data dic"
      ]
    },
    {
      "cell_type": "code",
      "execution_count": null,
      "metadata": {
        "id": "TX7syVNBalUA"
      },
      "outputs": [],
      "source": [
        "from pm4py.objects.conversion.log import converter as log_converter\n",
        "from pm4py.objects.log.importer.xes import importer as xes_importer\n",
        "# process mining \n",
        "from pm4py.algo.discovery.alpha import algorithm as alpha_miner\n",
        "from pm4py.algo.discovery.inductive import algorithm as inductive_miner\n",
        "from pm4py.algo.discovery.heuristics import algorithm as heuristics_miner\n",
        "from pm4py.algo.discovery.dfg import algorithm as dfg_discovery\n",
        "# viz\n",
        "from pm4py.visualization.petrinet import visualizer as pn_visualizer\n",
        "from pm4py.visualization.process_tree import visualizer as pt_visualizer\n",
        "from pm4py.visualization.heuristics_net import visualizer as hn_visualizer\n",
        "from pm4py.visualization.dfg import visualizer as dfg_visualization\n",
        "# misc \n",
        "from pm4py.objects.conversion.process_tree import converter as pt_converter\n",
        "pd.set_option('display.max_columns', None)\n",
        "pd.set_option('display.max_rows', None)"
      ]
    },
    {
      "cell_type": "code",
      "execution_count": null,
      "metadata": {
        "id": "lE3AvOXbdLsO"
      },
      "outputs": [],
      "source": [
        "from pm4py.algo.filtering.log.start_activities import start_activities_filter\n",
        "from pm4py.algo.filtering.log.end_activities import end_activities_filter\n",
        "from pm4py.algo.filtering.log.variants import variants_filter\n",
        "from pm4py.statistics.traces.log import case_statistics"
      ]
    },
    {
      "cell_type": "code",
      "execution_count": null,
      "metadata": {
        "id": "IthGKpMOdigm"
      },
      "outputs": [],
      "source": [
        "variants = variants_filter.get_variants(log)  \n",
        "print(f\"We have:{len(variants)} variants in our log\")"
      ]
    },
    {
      "cell_type": "code",
      "execution_count": null,
      "metadata": {
        "id": "AKRokqn9du4C"
      },
      "outputs": [],
      "source": [
        "variants_count = case_statistics.get_variant_statistics(log)\n",
        "variants_count = sorted(variants_count, key=lambda x: x['count'], reverse=True)\n",
        "variants_count"
      ]
    },
    {
      "cell_type": "code",
      "execution_count": null,
      "metadata": {
        "id": "emp0F8AteAKx"
      },
      "outputs": [],
      "source": [
        "from pm4py.algo.filtering.log.attributes import attributes_filter\n",
        "activities = attributes_filter.get_attribute_values(log, \"concept:name\")\n",
        "activities\n",
        "max(activities, key=activities.get)"
      ]
    },
    {
      "cell_type": "code",
      "execution_count": null,
      "metadata": {
        "id": "P6A50QsAgLMy"
      },
      "outputs": [],
      "source": [
        "activities2 = attributes_filter.get_attribute_values(log, \"case:concept:name\")\n",
        "activities2\n",
        "max(activities2, key=activities2.get)"
      ]
    },
    {
      "cell_type": "code",
      "execution_count": null,
      "metadata": {
        "colab": {
          "base_uri": "https://localhost:8080/"
        },
        "id": "5Pe73O4zjT15",
        "outputId": "09699fcd-a5ee-408d-dd7d-c19e54c6a272"
      },
      "outputs": [
        {
          "data": {
            "text/plain": [
              "3.7339229899581032"
            ]
          },
          "execution_count": 38,
          "metadata": {},
          "output_type": "execute_result"
        }
      ],
      "source": [
        "sum(activities2.values()) / len(activities2)"
      ]
    },
    {
      "cell_type": "markdown",
      "metadata": {
        "id": "uCzAnSvcNPuw"
      },
      "source": [
        "# PM TO DM :)"
      ]
    },
    {
      "cell_type": "code",
      "execution_count": null,
      "metadata": {
        "id": "g-BGe6r80tVB"
      },
      "outputs": [],
      "source": [
        "ca = df['case:concept:name'].unique()\n",
        "l = {}\n",
        "for i in ca:\n",
        "  l[i] = []\n",
        "  \n",
        "for i,j in zip(df['case:concept:name'],df['concept:name']):\n",
        "   l[i].append(j)"
      ]
    },
    {
      "cell_type": "code",
      "execution_count": null,
      "metadata": {
        "id": "SQZ7y2FXFrH0"
      },
      "outputs": [],
      "source": [
        "df2 = pd.DataFrame()"
      ]
    },
    {
      "cell_type": "code",
      "execution_count": null,
      "metadata": {
        "id": "QgL8NX51GTks"
      },
      "outputs": [],
      "source": [
        "xfg = df['concept:name'].unique()\n",
        "lam = {}\n",
        "for i in xfg:\n",
        "  lam[i] = {}\n",
        "\n",
        "df4 = pd.DataFrame(lam)"
      ]
    },
    {
      "cell_type": "code",
      "execution_count": null,
      "metadata": {
        "id": "KIIRFxcLORr0"
      },
      "outputs": [],
      "source": [
        "lfp = {}\n",
        "for i in df:\n",
        "  lfp[i] = {}\n",
        "df5 = pd.DataFrame(lfp)"
      ]
    },
    {
      "cell_type": "code",
      "execution_count": null,
      "metadata": {
        "id": "juFDNXWFFeGg"
      },
      "outputs": [],
      "source": [
        "df2['caseid'] = df['case:concept:name'].unique()\n",
        "df3 = pd.concat([df2,df5,df4],axis=1)"
      ]
    },
    {
      "cell_type": "code",
      "execution_count": null,
      "metadata": {
        "id": "D9ISDXlcHXd7"
      },
      "outputs": [],
      "source": [
        "dx_dic = {}\n",
        "for col in df3.columns:\n",
        "    dx_dic[col] = df3.columns.get_loc(col)"
      ]
    },
    {
      "cell_type": "markdown",
      "metadata": {
        "id": "Xmu0E64yEQx0"
      },
      "source": [
        "The code below needs a lot of runtime so we cant easily get what we want from it"
      ]
    },
    {
      "cell_type": "code",
      "execution_count": null,
      "metadata": {
        "id": "f1TBSSf2Ylev"
      },
      "outputs": [],
      "source": [
        "for i in df3['caseid']:\n",
        "  lis = list(df['concept:name'].unique())\n",
        "  for j in l[i]:\n",
        "    v = int(np.where(df3[\"caseid\"] == i)[0])\n",
        "    b = dx_dic[j]\n",
        "    df3.iloc[v,b] = 1\n",
        "    try:\n",
        "      lis.remove(j)\n",
        "    except:\n",
        "      pass\n",
        "  for j in lis:\n",
        "    b = dx_dic[j]\n",
        "    df3.iloc[v,b]  = 0  \n"
      ]
    },
    {
      "cell_type": "markdown",
      "metadata": {
        "id": "afkK49UsEgdR"
      },
      "source": [
        "so what we do is to split the dataframe into 10 pieces and then compile all of them"
      ]
    },
    {
      "cell_type": "code",
      "execution_count": null,
      "metadata": {
        "id": "BEO5O3_qWftR"
      },
      "outputs": [],
      "source": [
        "z = [1,2,3,4,5,6,7,8,9,10]\n",
        "for i in z:\n",
        "  if i == 1 :\n",
        "    k = int(df3.shape[0]/10)\n",
        "    exec(f'dft{i} = df3.iloc[:k,]')\n",
        "  else:\n",
        "    k = int(df3.shape[0]/10 * (i-1))\n",
        "    f = int(df3.shape[0]/10 * i)\n",
        "    exec(f'dft{i} = df3.iloc[k:f,]')"
      ]
    },
    {
      "cell_type": "code",
      "execution_count": null,
      "metadata": {
        "id": "uXlSFiw7MYFI"
      },
      "outputs": [],
      "source": [
        "dft_samp = []\n",
        "z = [1,2,3,4,5,6,7,8,9,10]\n",
        "z_new = [6,7,8,9,10]\n",
        "for i in z_new: \n",
        "  dft_samp.append(f'dft{i}')"
      ]
    },
    {
      "cell_type": "code",
      "execution_count": null,
      "metadata": {
        "id": "JACsod5WKGZz"
      },
      "outputs": [],
      "source": [
        "\"dft{0}\".format(i)"
      ]
    },
    {
      "cell_type": "code",
      "execution_count": null,
      "metadata": {
        "id": "YvJNelJ2h8H-"
      },
      "outputs": [],
      "source": [
        "dx_dic = {}\n",
        "for col in df3.columns:\n",
        "    dx_dic[col] = df3.columns.get_loc(col)"
      ]
    },
    {
      "cell_type": "code",
      "execution_count": null,
      "metadata": {
        "id": "rZfrYvgsN9jQ"
      },
      "outputs": [],
      "source": [
        "for h in dft_samp :\n",
        "  i_df = globals()[h]\n",
        "  for i in i_df['caseid']:\n",
        "    lis = list(df['concept:name'].unique())\n",
        "    for j in l[i]:\n",
        "        v = int(np.where(i_df[\"caseid\"] == i)[0])\n",
        "        b = dx_dic[j]\n",
        "        i_df.iloc[v,b] = 1\n",
        "        try:\n",
        "          lis.remove(j)\n",
        "        except:\n",
        "            pass\n",
        "    for j in lis:\n",
        "      b = dx_dic[j]\n",
        "      i_df.iloc[v,b]  = 0\n",
        "  i_df.to_csv(\"/content/drive/MyDrive/BPI Dataset/DFS/\"+str(h)+\".csv\")  "
      ]
    },
    {
      "cell_type": "markdown",
      "metadata": {
        "id": "xElvvcf6D8S_"
      },
      "source": [
        "Now we concat them together again."
      ]
    },
    {
      "cell_type": "code",
      "execution_count": null,
      "metadata": {
        "id": "6O58QCyQD7wP"
      },
      "outputs": [],
      "source": [
        "dfh_samp = []\n",
        "for i in z: \n",
        "  dfh_samp.append(f'dfh{i}')\n",
        "for i in z:\n",
        "  exec(f'dfh{i} = pd.read_csv(\"/content/drive/MyDrive/BPI Dataset/DFS/dft\"+str(i)+\".csv\")')"
      ]
    },
    {
      "cell_type": "code",
      "execution_count": null,
      "metadata": {
        "id": "IWxsmqRDE9p-"
      },
      "outputs": [],
      "source": [
        "dforg = pd.concat([dfh1,dfh2,dfh3,dfh4,dfh5,dfh6,dfh7,dfh8,dfh9,dfh10])"
      ]
    },
    {
      "cell_type": "code",
      "execution_count": null,
      "metadata": {
        "id": "4tyvEr3WGVYu"
      },
      "outputs": [],
      "source": [
        "dforg.to_csv(\"/content/drive/MyDrive/BPI Dataset/DFS/dforg.csv\")"
      ]
    },
    {
      "cell_type": "code",
      "execution_count": 16,
      "metadata": {
        "id": "9jP0ZQtcSDdp"
      },
      "outputs": [],
      "source": [
        "dforg = pd.read_csv(\"/content/drive/MyDrive/BPI Dataset/DFS/dforg.csv\")\n",
        "dforg = dforg.set_index('index')"
      ]
    },
    {
      "cell_type": "code",
      "execution_count": null,
      "metadata": {
        "id": "f_s2ZXNnGobc"
      },
      "outputs": [],
      "source": [
        "dforg = dforg.set_index('index')"
      ]
    },
    {
      "cell_type": "code",
      "execution_count": null,
      "metadata": {
        "id": "HbaiY-zuHQu1"
      },
      "outputs": [],
      "source": [
        "dforg[\"index\"] = dforg[\"Unnamed: 0\"]"
      ]
    },
    {
      "cell_type": "code",
      "execution_count": null,
      "metadata": {
        "id": "5Y2YD-u0Huct"
      },
      "outputs": [],
      "source": [
        "dforg = dforg.drop(['Unnamed: 0', 'lifecycle:transition' , 'case:concept:name' , 'amount', 'concept:name'], axis=1)"
      ]
    },
    {
      "cell_type": "markdown",
      "metadata": {
        "id": "KYaTGTh1I1qV"
      },
      "source": [
        "Now lets go do the logic for the rest of the columns."
      ]
    },
    {
      "cell_type": "code",
      "execution_count": null,
      "metadata": {
        "id": "YnqIFQZVI7j1"
      },
      "outputs": [],
      "source": [
        "dforg.head()"
      ]
    },
    {
      "cell_type": "code",
      "source": [
        "dforg.rename(columns = {'time:timestamp' : 'duration(days)'}, inplace = True)"
      ],
      "metadata": {
        "id": "orZK6rAvHVl4"
      },
      "execution_count": 18,
      "outputs": []
    },
    {
      "cell_type": "code",
      "execution_count": null,
      "metadata": {
        "id": "CxQu89UCJHnN"
      },
      "outputs": [],
      "source": [
        "dic_for_res = {}\n",
        "\n",
        "for i in ca:\n",
        "  dic_for_res[i] = []"
      ]
    },
    {
      "cell_type": "code",
      "execution_count": null,
      "metadata": {
        "id": "jK0ieNd1MC6w"
      },
      "outputs": [],
      "source": [
        "from numpy import nan"
      ]
    },
    {
      "cell_type": "code",
      "execution_count": null,
      "metadata": {
        "id": "azeFVLwuJyU1"
      },
      "outputs": [],
      "source": [
        "for i,j in zip(df['case:concept:name'],df['org:resource']):\n",
        "  if pd.isnull(j) == False :\n",
        "    dic_for_res[i].append(j)"
      ]
    },
    {
      "cell_type": "code",
      "execution_count": null,
      "metadata": {
        "id": "Hj1ZhVaKNmr3"
      },
      "outputs": [],
      "source": [
        "xvb = df['org:resource'].dropna().unique().tolist()"
      ]
    },
    {
      "cell_type": "code",
      "execution_count": null,
      "metadata": {
        "id": "ZJQ2ZCyVP7Bh"
      },
      "outputs": [],
      "source": [
        "dx_dic = {}\n",
        "for col in dforg:\n",
        "    dx_dic[col] = dforg.columns.get_loc(col)"
      ]
    },
    {
      "cell_type": "code",
      "execution_count": null,
      "metadata": {
        "id": "_fIJpJitVQGF"
      },
      "outputs": [],
      "source": [
        "dx_dic[\"org:resource\"]"
      ]
    },
    {
      "cell_type": "code",
      "execution_count": null,
      "metadata": {
        "id": "DiE0vlhkM9n9"
      },
      "outputs": [],
      "source": [
        "for i in dforg['caseid']:\n",
        "  for j in dic_for_res[i]:\n",
        "    v = int(np.where(dforg[\"caseid\"] == i)[0])\n",
        "    dforg.iloc[v,1] = j"
      ]
    },
    {
      "cell_type": "code",
      "execution_count": null,
      "metadata": {
        "id": "G_SH449-V-7U"
      },
      "outputs": [],
      "source": [
        "dforg"
      ]
    },
    {
      "cell_type": "code",
      "execution_count": null,
      "metadata": {
        "colab": {
          "base_uri": "https://localhost:8080/"
        },
        "id": "qlHpUJutqaW9",
        "outputId": "42822806-055c-4d23-aeb0-c3a2da599da3"
      },
      "outputs": [
        {
          "data": {
            "text/plain": [
              "array(['NIL', nan, '#', 'G', 'N', 'K', '5', '3', 'A', 'I', 'D', 'T', 'E',\n",
              "       '@', 'M', 'Q', 'F', 'V', 'U', 'C', 'B', '$', 'Z', 'J', 'R', '2',\n",
              "       '4'], dtype=object)"
            ]
          },
          "execution_count": 45,
          "metadata": {},
          "output_type": "execute_result"
        }
      ],
      "source": [
        "df['dismissal'].unique()"
      ]
    },
    {
      "cell_type": "code",
      "execution_count": null,
      "metadata": {
        "id": "GwfpZsRBr4Ok"
      },
      "outputs": [],
      "source": [
        "dismis_uniq = df['dismissal'].unique()\n",
        "list(dismis_uniq)"
      ]
    },
    {
      "cell_type": "code",
      "execution_count": null,
      "metadata": {
        "id": "0LDj_vU_snZ7"
      },
      "outputs": [],
      "source": [
        "dismis_uniq = list(dismis_uniq)"
      ]
    },
    {
      "cell_type": "code",
      "execution_count": null,
      "metadata": {
        "id": "WwemjY-YssrO"
      },
      "outputs": [],
      "source": [
        "caseunique = list(df['case:concept:name'].unique())"
      ]
    },
    {
      "cell_type": "code",
      "execution_count": null,
      "metadata": {
        "id": "5PsxjEQks-gX"
      },
      "outputs": [],
      "source": [
        "l = {}\n",
        "for i,j in zip(df['case:concept:name'],df['dismissal']) :\n",
        "    if pd.isnull(j) == False :\n",
        "      l[i] = j"
      ]
    },
    {
      "cell_type": "code",
      "execution_count": null,
      "metadata": {
        "id": "NsGBqv2NvsG1"
      },
      "outputs": [],
      "source": [
        "df[df['dismissal'] == \"M\"]"
      ]
    },
    {
      "cell_type": "code",
      "execution_count": null,
      "metadata": {
        "id": "TMsS6vbTwQWE"
      },
      "outputs": [],
      "source": [
        "l[\"N23119\"]"
      ]
    },
    {
      "cell_type": "code",
      "execution_count": null,
      "metadata": {
        "id": "YvJYnslywUfU"
      },
      "outputs": [],
      "source": [
        "for i in dforg['caseid']:\n",
        "  v = int(np.where(dforg[\"caseid\"] == i)[0])\n",
        "  dforg.iloc[v,2] = l[i]"
      ]
    },
    {
      "cell_type": "code",
      "execution_count": null,
      "metadata": {
        "id": "sn4r_RNRzF7D"
      },
      "outputs": [],
      "source": [
        "l = {}\n",
        "for i,j in zip(df['case:concept:name'],df['totalPaymentAmount']):\n",
        "  if pd.isnull(j) == False:\n",
        "    l[i] = j"
      ]
    },
    {
      "cell_type": "code",
      "execution_count": null,
      "metadata": {
        "id": "lYNkB2xpzQnU"
      },
      "outputs": [],
      "source": [
        "for i in dforg['caseid']:\n",
        "  v = int(np.where(dforg[\"caseid\"] == i)[0])\n",
        "  dforg.iloc[v,4] = l[i]"
      ]
    },
    {
      "cell_type": "code",
      "execution_count": null,
      "metadata": {
        "colab": {
          "base_uri": "https://localhost:8080/"
        },
        "id": "Yk6hWkKAWByb",
        "outputId": "43e6fe02-3ca6-48a1-99e6-1b272cd78077"
      },
      "outputs": [
        {
          "data": {
            "text/plain": [
              "['Create Fine']"
            ]
          },
          "execution_count": 138,
          "metadata": {},
          "output_type": "execute_result"
        }
      ],
      "source": [
        "#df[df['vehicleClass'].isnull() == True]\n",
        "findactivity(\"vehicleClass\")"
      ]
    },
    {
      "cell_type": "code",
      "execution_count": null,
      "metadata": {
        "id": "IZYmyTtiWj5y"
      },
      "outputs": [],
      "source": [
        "showactivity(\"Create Fine\")"
      ]
    },
    {
      "cell_type": "code",
      "execution_count": null,
      "metadata": {
        "id": "rhXfoOaQRrBI"
      },
      "outputs": [],
      "source": [
        "l = {}\n",
        "for i,j in zip(df['case:concept:name'],df['vehicleClass']):\n",
        "  if pd.isnull(j) == False:\n",
        "    l[i] = j"
      ]
    },
    {
      "cell_type": "code",
      "execution_count": null,
      "metadata": {
        "colab": {
          "base_uri": "https://localhost:8080/",
          "height": 36
        },
        "id": "BT_kJr8Clrvj",
        "outputId": "ec6c9161-0933-477a-e318-88236db17ff4"
      },
      "outputs": [
        {
          "data": {
            "application/vnd.google.colaboratory.intrinsic+json": {
              "type": "string"
            },
            "text/plain": [
              "'A'"
            ]
          },
          "execution_count": 153,
          "metadata": {},
          "output_type": "execute_result"
        }
      ],
      "source": [
        "l[\"A100\"]"
      ]
    },
    {
      "cell_type": "code",
      "execution_count": null,
      "metadata": {
        "id": "_pc0WqnaT-WV"
      },
      "outputs": [],
      "source": [
        "np.unique(list(l.values()))"
      ]
    },
    {
      "cell_type": "code",
      "execution_count": null,
      "metadata": {
        "id": "todZkJLnU-s7"
      },
      "outputs": [],
      "source": [
        "for i in caseunique:\n",
        "  v = int(np.where(dforg[\"caseid\"] == i) [0])\n",
        "  dforg.iloc[v,3] = l[i]"
      ]
    },
    {
      "cell_type": "markdown",
      "metadata": {
        "id": "BluFhmtvi1O7"
      },
      "source": [
        "Now lets get every case duration time so we fill our next column ;)"
      ]
    },
    {
      "cell_type": "code",
      "execution_count": null,
      "metadata": {
        "id": "R73R80YvjDzi"
      },
      "outputs": [],
      "source": [
        "from pm4py.statistics.traces.generic.log import case_statistics\n",
        "median_case_duration = case_statistics.get_median_caseduration(log, parameters={\n",
        "    case_statistics.Parameters.TIMESTAMP_KEY: \"time:timestamp\"\n",
        "})"
      ]
    },
    {
      "cell_type": "code",
      "execution_count": null,
      "metadata": {
        "id": "hy1yYn5VavdU"
      },
      "outputs": [],
      "source": [
        "from pm4py.statistics.traces.generic.log import case_statistics\n",
        "all_case_durations = case_statistics.get_all_casedurations(log, parameters={\n",
        "    case_statistics.Parameters.TIMESTAMP_KEY: \"time:timestamp\"})"
      ]
    },
    {
      "cell_type": "code",
      "execution_count": null,
      "metadata": {
        "id": "0MgjN-GKk06y"
      },
      "outputs": [],
      "source": [
        "p = []\n",
        "for i in all_case_durations:\n",
        "  if i == 0 :\n",
        "    pass\n",
        "  else:\n",
        "    p.append(i)\n"
      ]
    },
    {
      "cell_type": "code",
      "execution_count": null,
      "metadata": {
        "id": "k-sZPghe_nww"
      },
      "outputs": [],
      "source": [
        "import math\n",
        "all_case_duration_hour = []\n",
        "for i in all_case_durations:\n",
        "  min = i/60\n",
        "  hour = min/60\n",
        "  day = hour/24\n",
        "  value = math.ceil(day)\n",
        "  all_case_duration_hour.append(value)"
      ]
    },
    {
      "cell_type": "code",
      "execution_count": null,
      "metadata": {
        "id": "CuXbPGBFA8sp"
      },
      "outputs": [],
      "source": [
        "case_arrival_ratio = pm4py.get_case_arrival_average(log)"
      ]
    },
    {
      "cell_type": "code",
      "execution_count": null,
      "metadata": {
        "id": "Iyk1OMW_DvfJ"
      },
      "outputs": [],
      "source": [
        "df"
      ]
    },
    {
      "cell_type": "code",
      "execution_count": null,
      "metadata": {
        "id": "_lCZ5OUWpV1V"
      },
      "outputs": [],
      "source": [
        "day_dic = {}\n",
        "countss = []\n",
        "caseunique = list(df['case:concept:name'].unique())\n",
        "for i in caseunique:\n",
        "  dfk = df[df['case:concept:name'] == i]\n",
        "  dfk.sort_values(by=\"time:timestamp\")\n",
        "  row_num = dfk.shape[0]\n",
        "  duration = dfk.iloc[(row_num - 1),7] - dfk.iloc[0,7]\n",
        "  durationday = duration.days\n",
        "  day_dic[i] = durationday\n",
        "  countss.append(i)"
      ]
    },
    {
      "cell_type": "code",
      "execution_count": null,
      "metadata": {
        "id": "8VgaOL3qBrxN"
      },
      "outputs": [],
      "source": [
        "c = df.iloc[1,7] - df.iloc[0,7]\n",
        "c.days"
      ]
    },
    {
      "cell_type": "code",
      "execution_count": null,
      "metadata": {
        "id": "NaBl7rnK9aEz"
      },
      "outputs": [],
      "source": [
        "len(day_dic)"
      ]
    },
    {
      "cell_type": "code",
      "source": [
        "def replaceinnew (y):\n",
        "  columns = dforg.columns\n",
        "  l = {}\n",
        "  for i,j in zip(df['case:concept:name'],df[y]):\n",
        "    if pd.isnull(j) == False:\n",
        "      l[i] = j\n",
        "  for i in l:\n",
        "    v = int(np.where(dforg[\"caseid\"] == i)[0])\n",
        "    m = int(columns.get_loc(y))\n",
        "    dforg.iloc[v,m] = l[i]\n",
        "  dforg.to_csv(\"/content/drive/MyDrive/BPI Dataset/DFS/dforg.csv\")"
      ],
      "metadata": {
        "id": "c-mWl9G6JPkt"
      },
      "execution_count": 40,
      "outputs": []
    },
    {
      "cell_type": "code",
      "source": [
        "replaceinnew('article')"
      ],
      "metadata": {
        "id": "3TRk5dZ8LYtQ"
      },
      "execution_count": 41,
      "outputs": []
    },
    {
      "cell_type": "code",
      "source": [
        "replaceinnew('points')"
      ],
      "metadata": {
        "id": "lQUFerJnWQMD"
      },
      "execution_count": 45,
      "outputs": []
    },
    {
      "cell_type": "code",
      "source": [
        "replaceinnew('notificationType')"
      ],
      "metadata": {
        "id": "E7Z-xuKWj2Jg"
      },
      "execution_count": 46,
      "outputs": []
    },
    {
      "cell_type": "code",
      "source": [
        "replaceinnew('matricola')"
      ],
      "metadata": {
        "id": "JRWsmpsiqijs"
      },
      "execution_count": 49,
      "outputs": []
    },
    {
      "cell_type": "code",
      "source": [
        "dforg = dforg.drop(['matricola', 'lastSent' , 'paymentAmount'], axis=1)"
      ],
      "metadata": {
        "id": "gM5e57ATq53U"
      },
      "execution_count": 50,
      "outputs": []
    },
    {
      "cell_type": "code",
      "source": [
        "dforg = dforg.drop(['points'], axis=1)"
      ],
      "metadata": {
        "id": "HSRakuNLrn90"
      },
      "execution_count": 52,
      "outputs": []
    },
    {
      "cell_type": "code",
      "source": [
        "dforg"
      ],
      "metadata": {
        "id": "09-vdq8XNIf_"
      },
      "execution_count": null,
      "outputs": []
    },
    {
      "cell_type": "code",
      "source": [
        "columns = dforg.columns\n",
        "l = {}\n",
        "for i,j in zip(df['case:concept:name'],df['expense']):\n",
        "  if pd.isnull(j) == False:\n",
        "    l[i] = []\n",
        "    l[i].append(j)\n",
        "for i in l:\n",
        "  v = int(np.where(dforg[\"caseid\"] == i)[0])\n",
        "  m = int(columns.get_loc('expense'))\n",
        "  dforg.iloc[v,m] = sum(l[i])\n",
        "dforg.to_csv(\"/content/drive/MyDrive/BPI Dataset/DFS/dforg.csv\")"
      ],
      "metadata": {
        "id": "Oq0feTMtrvuw"
      },
      "execution_count": 53,
      "outputs": []
    },
    {
      "cell_type": "code",
      "execution_count": null,
      "metadata": {
        "id": "AXX93AglQOBa"
      },
      "outputs": [],
      "source": [
        "caseunique = list(df['case:concept:name'].unique())"
      ]
    },
    {
      "cell_type": "code",
      "execution_count": null,
      "metadata": {
        "id": "NdcyCVX2QFIB"
      },
      "outputs": [],
      "source": [
        "for i in caseunique:\n",
        "  v = int(np.where(dforg[\"caseid\"] == i)[0])\n",
        "  dforg.iloc[v,5] = day_dic[i]"
      ]
    },
    {
      "cell_type": "code",
      "execution_count": null,
      "metadata": {
        "id": "3otTcYUMbCkM"
      },
      "outputs": [],
      "source": [
        "from pm4py.statistics.traces.generic.log import case_arrival\n",
        "case_arrival_ratio = case_arrival.get_case_arrival_avg(log, parameters={\n",
        "    case_arrival.Parameters.TIMESTAMP_KEY: \"time:timestamp\"})"
      ]
    },
    {
      "cell_type": "code",
      "execution_count": null,
      "metadata": {
        "id": "lBFGQR_jcGI7"
      },
      "outputs": [],
      "source": [
        "## Import the alpha_miner algorithm\n",
        "from pm4py.algo.discovery.alpha import algorithm as alpha_miner\n",
        "net, initial_marking, final_marking = alpha_miner.apply(log)\n",
        "## Import the petrinet visualizer object\n",
        "from pm4py.visualization.petrinet import visualizer as pn_visualizer\n",
        "# Visualise \n",
        "gviz = pn_visualizer.apply(net, initial_marking, final_marking) \n",
        "pn_visualizer.view(gviz)"
      ]
    },
    {
      "cell_type": "code",
      "execution_count": null,
      "metadata": {
        "id": "G_csJ7v0cqPN"
      },
      "outputs": [],
      "source": [
        "gviz = pn_visualizer.apply(net, initial_marking, final_marking,variant=pn_visualizer.Variants.FREQUENCY, log=log)\n",
        "pn_visualizer.view(gviz)"
      ]
    },
    {
      "cell_type": "code",
      "execution_count": null,
      "metadata": {
        "id": "xsjuv7R9lx6Q"
      },
      "outputs": [],
      "source": [
        "from pm4py.algo.filtering.log.attributes import attributes_filter\n",
        "\n",
        "x, y = attributes_filter.get_kde_date_attribute(log, attribute=\"time:timestamp\")\n",
        "\n",
        "from pm4py.visualization.graphs import visualizer as graphs_visualizer\n",
        "\n",
        "gviz = graphs_visualizer.apply_plot(x, y, variant=graphs_visualizer.Variants.DATES)\n",
        "graphs_visualizer.view(gviz)"
      ]
    },
    {
      "cell_type": "code",
      "execution_count": null,
      "metadata": {
        "id": "Py1Nk6ggl7ej"
      },
      "outputs": [],
      "source": [
        "from pm4py.statistics.eventually_follows.log import get as efg_get\n",
        "efg_graph = efg_get.apply(log)\n",
        "print(efg_graph)"
      ]
    },
    {
      "cell_type": "code",
      "execution_count": null,
      "metadata": {
        "id": "p3mMEaMLpB11"
      },
      "outputs": [],
      "source": [
        "df[\"concept:name\"].unique()"
      ]
    },
    {
      "cell_type": "code",
      "execution_count": null,
      "metadata": {
        "id": "w4Pu0x1woCde"
      },
      "outputs": [],
      "source": [
        "pm4py.view_performance_spectrum(log, [\"Create Fine\" , \"Send Fine\" , \"Insert Fine Notification\", \"Send for Credit Collection\"], format=\"png\")"
      ]
    },
    {
      "cell_type": "markdown",
      "source": [
        "# Machine Learning"
      ],
      "metadata": {
        "id": "IPyr2pLX02VE"
      }
    },
    {
      "cell_type": "code",
      "source": [
        ""
      ],
      "metadata": {
        "id": "KcCKQlWc09wv"
      },
      "execution_count": null,
      "outputs": []
    }
  ],
  "metadata": {
    "colab": {
      "collapsed_sections": [
        "TgnuBX78pJG4",
        "GR9t5Wgop0M5"
      ],
      "name": "BPI DATASET ",
      "provenance": []
    },
    "kernelspec": {
      "display_name": "Python 3",
      "name": "python3"
    },
    "language_info": {
      "name": "python"
    },
    "gpuClass": "standard",
    "accelerator": "TPU"
  },
  "nbformat": 4,
  "nbformat_minor": 0
}