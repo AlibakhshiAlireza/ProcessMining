{
  "cells": [
    {
      "cell_type": "code",
      "execution_count": null,
      "metadata": {
        "id": "XDhrDvB5N-rU"
      },
      "outputs": [],
      "source": [
        "import tensorflow as tf\n",
        "tf.test.gpu_device_name()"
      ]
    },
    {
      "cell_type": "code",
      "execution_count": 2,
      "metadata": {
        "id": "igqKGpIqTaq7"
      },
      "outputs": [],
      "source": [
        "import warnings\n",
        "warnings.filterwarnings(\"ignore\")"
      ]
    },
    {
      "cell_type": "markdown",
      "metadata": {
        "id": "t0xi7_Swo-Fq"
      },
      "source": [
        "# Data Disc. and prep."
      ]
    },
    {
      "cell_type": "code",
      "execution_count": null,
      "metadata": {
        "id": "vn2qdO0ESajL"
      },
      "outputs": [],
      "source": [
        "pip install pm4py"
      ]
    },
    {
      "cell_type": "code",
      "execution_count": 8,
      "metadata": {
        "id": "GGtQ8UYOSEev"
      },
      "outputs": [],
      "source": [
        "import pandas as pd\n",
        "import numpy as np\n",
        "import matplotlib.pyplot as plt\n",
        "import seaborn as sns\n",
        "import missingno as mn\n",
        "import pm4py\n",
        "from scipy.stats.mstats import winsorize"
      ]
    },
    {
      "cell_type": "code",
      "source": [
        "from google.colab import drive\n",
        "drive.mount('/content/drive')"
      ],
      "metadata": {
        "id": "9C8GoRaT8wS0",
        "colab": {
          "base_uri": "https://localhost:8080/"
        },
        "outputId": "a17c4d94-c45b-46b9-ef78-5efe6df51dca"
      },
      "execution_count": 9,
      "outputs": [
        {
          "output_type": "stream",
          "name": "stdout",
          "text": [
            "Mounted at /content/drive\n"
          ]
        }
      ]
    },
    {
      "cell_type": "code",
      "execution_count": null,
      "metadata": {
        "id": "oTRnx2EzShMc"
      },
      "outputs": [],
      "source": [
        "log = pm4py.read_xes('/content/drive/MyDrive/BPI Dataset/Road_Traffic_Fine_Management_Process (1).xes')\n",
        "df = pm4py.convert_to_dataframe(log)\n",
        "df"
      ]
    },
    {
      "cell_type": "markdown",
      "metadata": {
        "id": "FqgF-Aw0NXDU"
      },
      "source": [
        "# Data preproc"
      ]
    },
    {
      "cell_type": "code",
      "execution_count": null,
      "metadata": {
        "id": "AKqafWsOy7PY"
      },
      "outputs": [],
      "source": [
        "df"
      ]
    },
    {
      "cell_type": "code",
      "execution_count": null,
      "metadata": {
        "id": "JC163UTg0SrL"
      },
      "outputs": [],
      "source": [
        "df['concept:name'].unique()"
      ]
    },
    {
      "cell_type": "code",
      "execution_count": null,
      "metadata": {
        "id": "DC9RhaVU4mOI"
      },
      "outputs": [],
      "source": [
        "df['case:concept:name']"
      ]
    },
    {
      "cell_type": "code",
      "execution_count": null,
      "metadata": {
        "id": "9-ErawAx2al2"
      },
      "outputs": [],
      "source": [
        "sum(df['case:concept:name'] == \"A1\")"
      ]
    },
    {
      "cell_type": "code",
      "execution_count": null,
      "metadata": {
        "id": "3nfr8DyLWb4E"
      },
      "outputs": [],
      "source": [
        "df['notificationType'] = df['notificationType'].replace('NaN',np.nan)\n",
        "df['notificationType'].unique()"
      ]
    },
    {
      "cell_type": "code",
      "execution_count": null,
      "metadata": {
        "id": "grwUwAhfZIJ-"
      },
      "outputs": [],
      "source": [
        "pd.unique(df['case:concept:name'])"
      ]
    },
    {
      "cell_type": "code",
      "execution_count": null,
      "metadata": {
        "id": "UnCJGevoZSdO"
      },
      "outputs": [],
      "source": [
        "df['case:concept:name'].describe()"
      ]
    },
    {
      "cell_type": "code",
      "execution_count": null,
      "metadata": {
        "id": "gps4v4V8QU3b"
      },
      "outputs": [],
      "source": [
        "pd.to_datetime(df['time:timestamp'],utc=True)"
      ]
    },
    {
      "cell_type": "code",
      "execution_count": null,
      "metadata": {
        "id": "UKlb9nt7OT5r"
      },
      "outputs": [],
      "source": [
        "#find missings\n",
        "mn.matrix(df)"
      ]
    },
    {
      "cell_type": "code",
      "execution_count": null,
      "metadata": {
        "id": "BqtNUPvuK-Uz"
      },
      "outputs": [],
      "source": [
        "#Vehicleclass->Create Fine\n",
        "df_vehicleclass = df[df['concept:name'] == \"Create Fine\"]\n",
        "sns.countplot(x ='vehicleClass', data=df_vehicleclass)"
      ]
    },
    {
      "cell_type": "code",
      "execution_count": null,
      "metadata": {
        "id": "ddNBTgzeMG_u"
      },
      "outputs": [],
      "source": [
        "#find dismidal missings\n",
        "df['dismissal'].unique()\n",
        "df.dismissal.isnull()\n",
        "x = df.loc[~df.dismissal.isnull()]\n",
        "x['concept:name'].unique()\n",
        "df_dismissal = df[df['concept:name'] == (\"Create Fine\" or \"Send Appeal to Prefecture\" or \"Appeal to Judge\")]\n",
        "df_dismissal\n",
        "mn.matrix(df_dismissal)"
      ]
    },
    {
      "cell_type": "code",
      "execution_count": null,
      "metadata": {
        "id": "MQWT4a8rMQaz"
      },
      "outputs": [],
      "source": [
        "#find article missings\n",
        "df['article'].unique()\n",
        "df.article.isnull()\n",
        "x = df.loc[~df.article.isnull()]\n",
        "x['concept:name'].unique()\n",
        "dfarticle = df[df['concept:name'] == (\"Create Fine\")]\n",
        "mn.matrix(dfarticle)"
      ]
    },
    {
      "cell_type": "code",
      "execution_count": null,
      "metadata": {
        "id": "ElF33DMwMoAO"
      },
      "outputs": [],
      "source": [
        "def findactivity(k):\n",
        "  x = df.loc[~df[k].isnull()]\n",
        "  f = x['concept:name'].unique()\n",
        "  h = list(map(lambda x:x,f))\n",
        "  return h\n",
        "def showactivity(x):\n",
        "  dfx = df[df['concept:name'] == (x)]\n",
        "  return mn.matrix(dfx)"
      ]
    },
    {
      "cell_type": "code",
      "execution_count": null,
      "metadata": {
        "id": "u5XF0S9fhVPM"
      },
      "outputs": [],
      "source": [
        "df.head()"
      ]
    },
    {
      "cell_type": "code",
      "execution_count": null,
      "metadata": {
        "id": "SfyHrQ0khHpU"
      },
      "outputs": [],
      "source": [
        "findactivity(\"amount\")"
      ]
    },
    {
      "cell_type": "code",
      "execution_count": null,
      "metadata": {
        "id": "gp2VuN8fhJki"
      },
      "outputs": [],
      "source": [
        "showactivity('Create Fine'or 'Add penalty')"
      ]
    },
    {
      "cell_type": "markdown",
      "metadata": {
        "id": "TgnuBX78pJG4"
      },
      "source": [
        "# Finding Outliers"
      ]
    },
    {
      "cell_type": "code",
      "execution_count": null,
      "metadata": {
        "id": "U3WBf-CspP8A"
      },
      "outputs": [],
      "source": [
        "findactivity(\"amount\")\n",
        "sns.boxplot(x=\"amount\",data=df[(df['concept:name'] == ('Create Fine' or 'Add penalty'))])"
      ]
    },
    {
      "cell_type": "code",
      "execution_count": null,
      "metadata": {
        "id": "m2pZwHfovBZ3"
      },
      "outputs": [],
      "source": [
        "#Outer fences of the variable CRIM\n",
        "def fences(df, variable_name):    \n",
        "    q1 = df[variable_name].quantile(0.25)\n",
        "    q3 = df[variable_name].quantile(0.75)\n",
        "    iqr = q3-q1\n",
        "    outer_fence = 3*iqr\n",
        "    outer_fence_le = q1-outer_fence\n",
        "    outer_fence_ue = q3+outer_fence\n",
        "    return outer_fence_le, outer_fence_ue\n",
        "\n",
        "outer_fence_le, outer_fence_ue = fences(df[df['concept:name'] == ('Create Fine' or 'Add penalty')], 'amount')\n",
        "print('Lower end outer fence: ', outer_fence_le)\n",
        "print('Upper end outer fence: ', outer_fence_ue)"
      ]
    },
    {
      "cell_type": "code",
      "execution_count": null,
      "metadata": {
        "id": "1BbtKeH1xsXR"
      },
      "outputs": [],
      "source": [
        "xd = df[df['concept:name'] == ('Create Fine' or 'Add penalty')]"
      ]
    },
    {
      "cell_type": "code",
      "execution_count": null,
      "metadata": {
        "id": "acuOgNP0x9dk"
      },
      "outputs": [],
      "source": [
        "xd['amount'] = winsorize(xd['amount'].values, limits = [0, 0.09]).data"
      ]
    },
    {
      "cell_type": "code",
      "execution_count": null,
      "metadata": {
        "id": "d5QIIqE2w3CK"
      },
      "outputs": [],
      "source": [
        "sns.boxplot(x='amount',data = xd)"
      ]
    },
    {
      "cell_type": "code",
      "execution_count": null,
      "metadata": {
        "id": "OpYtZxaIsjZn"
      },
      "outputs": [],
      "source": [
        "sns.displot(xd, x=\"amount\",bins = 10)\n",
        "sns.displot(df, x=\"amount\",bins = 5)"
      ]
    },
    {
      "cell_type": "code",
      "execution_count": null,
      "metadata": {
        "id": "ahkAcBRlzrma"
      },
      "outputs": [],
      "source": [
        "findactivity(\"notificationType\")\n",
        "showactivity('Insert Fine Notification')"
      ]
    },
    {
      "cell_type": "code",
      "execution_count": null,
      "metadata": {
        "id": "TPYytF-E0Cpv"
      },
      "outputs": [],
      "source": [
        "findactivity(\"expense\")"
      ]
    },
    {
      "cell_type": "code",
      "execution_count": null,
      "metadata": {
        "id": "C5fTT0lh06t8"
      },
      "outputs": [],
      "source": [
        "xf = df[df['concept:name'] == ('Send Fine')]\n",
        "xfa = df[df['concept:name'] == ('Send Fine')]\n",
        "xfa2 = df[df['concept:name'] == ('Send Fine')]"
      ]
    },
    {
      "cell_type": "code",
      "execution_count": null,
      "metadata": {
        "id": "Ni3tWHZmlpgT"
      },
      "outputs": [],
      "source": [
        "fences(xf,'expense')"
      ]
    },
    {
      "cell_type": "code",
      "execution_count": null,
      "metadata": {
        "id": "h4NV6YkG1GdE"
      },
      "outputs": [],
      "source": [
        "#sns.boxplot(x='expense',data = xf)\n",
        "fences(xf,'expense')\n",
        "sns.boxplot(x='expense',data = xf[xf['expense']<24.0])"
      ]
    },
    {
      "cell_type": "code",
      "execution_count": null,
      "metadata": {
        "id": "v-QKFmg9mSTN"
      },
      "outputs": [],
      "source": [
        "zzz = df['case:concept:name'].unique()\n",
        "len(zzz)"
      ]
    },
    {
      "cell_type": "code",
      "execution_count": null,
      "metadata": {
        "id": "AA9b-GzulAxS"
      },
      "outputs": [],
      "source": [
        "xfa2 = xf[xf['expense']>24]\n",
        "zz = xfa2['case:concept:name'].unique()\n",
        "len(zz)"
      ]
    },
    {
      "cell_type": "code",
      "execution_count": null,
      "metadata": {
        "id": "RNBZXI5h1uaN"
      },
      "outputs": [],
      "source": [
        "xfa['expense'] = winsorize(xf['expense'].values, limits = [0, 0.09]).data\n",
        "sns.boxplot(x='expense',data = xfa)"
      ]
    },
    {
      "cell_type": "code",
      "execution_count": null,
      "metadata": {
        "id": "jvv45sgYQ2Rd"
      },
      "outputs": [],
      "source": [
        "findactivity(\"article\")\n",
        "xa = df[df['concept:name'] == ('Create Fine')]\n",
        "xa.article = xa.article.astype(str)\n",
        "uxa =xa.article.unique()\n",
        "plt.figure(figsize=(50,8))\n",
        "sns.countplot(x=\"article\",data=xa[xa[\"article\"]!=('7.0' and '157.0' and '158.0')])"
      ]
    },
    {
      "cell_type": "markdown",
      "metadata": {
        "id": "GR9t5Wgop0M5"
      },
      "source": [
        "\n",
        "\n",
        "# Data dic"
      ]
    },
    {
      "cell_type": "code",
      "execution_count": null,
      "metadata": {
        "id": "TX7syVNBalUA"
      },
      "outputs": [],
      "source": [
        "from pm4py.objects.conversion.log import converter as log_converter\n",
        "from pm4py.objects.log.importer.xes import importer as xes_importer\n",
        "# process mining \n",
        "from pm4py.algo.discovery.alpha import algorithm as alpha_miner\n",
        "from pm4py.algo.discovery.inductive import algorithm as inductive_miner\n",
        "from pm4py.algo.discovery.heuristics import algorithm as heuristics_miner\n",
        "from pm4py.algo.discovery.dfg import algorithm as dfg_discovery\n",
        "# viz\n",
        "from pm4py.visualization.petrinet import visualizer as pn_visualizer\n",
        "from pm4py.visualization.process_tree import visualizer as pt_visualizer\n",
        "from pm4py.visualization.heuristics_net import visualizer as hn_visualizer\n",
        "from pm4py.visualization.dfg import visualizer as dfg_visualization\n",
        "# misc \n",
        "from pm4py.objects.conversion.process_tree import converter as pt_converter\n",
        "pd.set_option('display.max_columns', None)\n",
        "pd.set_option('display.max_rows', None)"
      ]
    },
    {
      "cell_type": "code",
      "execution_count": null,
      "metadata": {
        "id": "lE3AvOXbdLsO"
      },
      "outputs": [],
      "source": [
        "from pm4py.algo.filtering.log.start_activities import start_activities_filter\n",
        "from pm4py.algo.filtering.log.end_activities import end_activities_filter\n",
        "from pm4py.algo.filtering.log.variants import variants_filter\n",
        "from pm4py.statistics.traces.log import case_statistics"
      ]
    },
    {
      "cell_type": "code",
      "execution_count": null,
      "metadata": {
        "id": "IthGKpMOdigm"
      },
      "outputs": [],
      "source": [
        "variants = variants_filter.get_variants(log)  \n",
        "print(f\"We have:{len(variants)} variants in our log\")"
      ]
    },
    {
      "cell_type": "code",
      "execution_count": null,
      "metadata": {
        "id": "AKRokqn9du4C"
      },
      "outputs": [],
      "source": [
        "variants_count = case_statistics.get_variant_statistics(log)\n",
        "variants_count = sorted(variants_count, key=lambda x: x['count'], reverse=True)\n",
        "variants_count"
      ]
    },
    {
      "cell_type": "code",
      "execution_count": null,
      "metadata": {
        "id": "emp0F8AteAKx"
      },
      "outputs": [],
      "source": [
        "from pm4py.algo.filtering.log.attributes import attributes_filter\n",
        "activities = attributes_filter.get_attribute_values(log, \"concept:name\")\n",
        "activities\n",
        "max(activities, key=activities.get)"
      ]
    },
    {
      "cell_type": "code",
      "execution_count": null,
      "metadata": {
        "id": "P6A50QsAgLMy"
      },
      "outputs": [],
      "source": [
        "activities2 = attributes_filter.get_attribute_values(log, \"case:concept:name\")\n",
        "activities2\n",
        "max(activities2, key=activities2.get)"
      ]
    },
    {
      "cell_type": "code",
      "execution_count": null,
      "metadata": {
        "colab": {
          "base_uri": "https://localhost:8080/"
        },
        "id": "5Pe73O4zjT15",
        "outputId": "09699fcd-a5ee-408d-dd7d-c19e54c6a272"
      },
      "outputs": [
        {
          "data": {
            "text/plain": [
              "3.7339229899581032"
            ]
          },
          "execution_count": 38,
          "metadata": {},
          "output_type": "execute_result"
        }
      ],
      "source": [
        "sum(activities2.values()) / len(activities2)"
      ]
    },
    {
      "cell_type": "markdown",
      "metadata": {
        "id": "uCzAnSvcNPuw"
      },
      "source": [
        "# PM TO DM :)"
      ]
    },
    {
      "cell_type": "code",
      "execution_count": null,
      "metadata": {
        "id": "g-BGe6r80tVB"
      },
      "outputs": [],
      "source": [
        "ca = df['case:concept:name'].unique()\n",
        "l = {}\n",
        "for i in ca:\n",
        "  l[i] = []\n",
        "  \n",
        "for i,j in zip(df['case:concept:name'],df['concept:name']):\n",
        "   l[i].append(j)"
      ]
    },
    {
      "cell_type": "code",
      "execution_count": null,
      "metadata": {
        "id": "SQZ7y2FXFrH0"
      },
      "outputs": [],
      "source": [
        "df2 = pd.DataFrame()"
      ]
    },
    {
      "cell_type": "code",
      "execution_count": null,
      "metadata": {
        "id": "QgL8NX51GTks"
      },
      "outputs": [],
      "source": [
        "xfg = df['concept:name'].unique()\n",
        "lam = {}\n",
        "for i in xfg:\n",
        "  lam[i] = {}\n",
        "\n",
        "df4 = pd.DataFrame(lam)"
      ]
    },
    {
      "cell_type": "code",
      "execution_count": null,
      "metadata": {
        "id": "KIIRFxcLORr0"
      },
      "outputs": [],
      "source": [
        "lfp = {}\n",
        "for i in df:\n",
        "  lfp[i] = {}\n",
        "df5 = pd.DataFrame(lfp)"
      ]
    },
    {
      "cell_type": "code",
      "execution_count": null,
      "metadata": {
        "id": "juFDNXWFFeGg"
      },
      "outputs": [],
      "source": [
        "df2['caseid'] = df['case:concept:name'].unique()\n",
        "df3 = pd.concat([df2,df5,df4],axis=1)"
      ]
    },
    {
      "cell_type": "code",
      "execution_count": null,
      "metadata": {
        "id": "D9ISDXlcHXd7"
      },
      "outputs": [],
      "source": [
        "dx_dic = {}\n",
        "for col in df3.columns:\n",
        "    dx_dic[col] = df3.columns.get_loc(col)"
      ]
    },
    {
      "cell_type": "markdown",
      "metadata": {
        "id": "Xmu0E64yEQx0"
      },
      "source": [
        "The code below needs a lot of runtime so we cant easily get what we want from it"
      ]
    },
    {
      "cell_type": "code",
      "execution_count": null,
      "metadata": {
        "id": "f1TBSSf2Ylev"
      },
      "outputs": [],
      "source": [
        "for i in df3['caseid']:\n",
        "  lis = list(df['concept:name'].unique())\n",
        "  for j in l[i]:\n",
        "    v = int(np.where(df3[\"caseid\"] == i)[0])\n",
        "    b = dx_dic[j]\n",
        "    df3.iloc[v,b] = 1\n",
        "    try:\n",
        "      lis.remove(j)\n",
        "    except:\n",
        "      pass\n",
        "  for j in lis:\n",
        "    b = dx_dic[j]\n",
        "    df3.iloc[v,b]  = 0  \n"
      ]
    },
    {
      "cell_type": "markdown",
      "metadata": {
        "id": "afkK49UsEgdR"
      },
      "source": [
        "so what we do is to split the dataframe into 10 pieces and then compile all of them"
      ]
    },
    {
      "cell_type": "code",
      "execution_count": null,
      "metadata": {
        "id": "BEO5O3_qWftR"
      },
      "outputs": [],
      "source": [
        "z = [1,2,3,4,5,6,7,8,9,10]\n",
        "for i in z:\n",
        "  if i == 1 :\n",
        "    k = int(df3.shape[0]/10)\n",
        "    exec(f'dft{i} = df3.iloc[:k,]')\n",
        "  else:\n",
        "    k = int(df3.shape[0]/10 * (i-1))\n",
        "    f = int(df3.shape[0]/10 * i)\n",
        "    exec(f'dft{i} = df3.iloc[k:f,]')"
      ]
    },
    {
      "cell_type": "code",
      "execution_count": null,
      "metadata": {
        "id": "uXlSFiw7MYFI"
      },
      "outputs": [],
      "source": [
        "dft_samp = []\n",
        "z = [1,2,3,4,5,6,7,8,9,10]\n",
        "z_new = [6,7,8,9,10]\n",
        "for i in z_new: \n",
        "  dft_samp.append(f'dft{i}')"
      ]
    },
    {
      "cell_type": "code",
      "execution_count": null,
      "metadata": {
        "id": "JACsod5WKGZz"
      },
      "outputs": [],
      "source": [
        "\"dft{0}\".format(i)"
      ]
    },
    {
      "cell_type": "code",
      "execution_count": null,
      "metadata": {
        "id": "YvJNelJ2h8H-"
      },
      "outputs": [],
      "source": [
        "dx_dic = {}\n",
        "for col in df3.columns:\n",
        "    dx_dic[col] = df3.columns.get_loc(col)"
      ]
    },
    {
      "cell_type": "code",
      "execution_count": null,
      "metadata": {
        "id": "rZfrYvgsN9jQ"
      },
      "outputs": [],
      "source": [
        "for h in dft_samp :\n",
        "  i_df = globals()[h]\n",
        "  for i in i_df['caseid']:\n",
        "    lis = list(df['concept:name'].unique())\n",
        "    for j in l[i]:\n",
        "        v = int(np.where(i_df[\"caseid\"] == i)[0])\n",
        "        b = dx_dic[j]\n",
        "        i_df.iloc[v,b] = 1\n",
        "        try:\n",
        "          lis.remove(j)\n",
        "        except:\n",
        "            pass\n",
        "    for j in lis:\n",
        "      b = dx_dic[j]\n",
        "      i_df.iloc[v,b]  = 0\n",
        "  i_df.to_csv(\"/content/drive/MyDrive/BPI Dataset/DFS/\"+str(h)+\".csv\")  "
      ]
    },
    {
      "cell_type": "markdown",
      "metadata": {
        "id": "xElvvcf6D8S_"
      },
      "source": [
        "Now we concat them together again."
      ]
    },
    {
      "cell_type": "code",
      "execution_count": null,
      "metadata": {
        "id": "6O58QCyQD7wP"
      },
      "outputs": [],
      "source": [
        "dfh_samp = []\n",
        "for i in z: \n",
        "  dfh_samp.append(f'dfh{i}')\n",
        "for i in z:\n",
        "  exec(f'dfh{i} = pd.read_csv(\"/content/drive/MyDrive/BPI Dataset/DFS/dft\"+str(i)+\".csv\")')"
      ]
    },
    {
      "cell_type": "code",
      "execution_count": null,
      "metadata": {
        "id": "IWxsmqRDE9p-"
      },
      "outputs": [],
      "source": [
        "dforg = pd.concat([dfh1,dfh2,dfh3,dfh4,dfh5,dfh6,dfh7,dfh8,dfh9,dfh10])"
      ]
    },
    {
      "cell_type": "code",
      "execution_count": null,
      "metadata": {
        "id": "4tyvEr3WGVYu"
      },
      "outputs": [],
      "source": [
        "dforg.to_csv(\"/content/drive/MyDrive/BPI Dataset/DFS/dforg.csv\")"
      ]
    },
    {
      "cell_type": "code",
      "execution_count": 67,
      "metadata": {
        "id": "9jP0ZQtcSDdp"
      },
      "outputs": [],
      "source": [
        "dforg = pd.read_csv(\"/content/drive/MyDrive/BPI Dataset/DFS/dforg.csv\")\n",
        "dforg = dforg.set_index('index')"
      ]
    },
    {
      "cell_type": "code",
      "execution_count": null,
      "metadata": {
        "id": "f_s2ZXNnGobc"
      },
      "outputs": [],
      "source": [
        "dforg = dforg.set_index('index')"
      ]
    },
    {
      "cell_type": "code",
      "execution_count": null,
      "metadata": {
        "id": "HbaiY-zuHQu1"
      },
      "outputs": [],
      "source": [
        "dforg[\"index\"] = dforg[\"Unnamed: 0\"]"
      ]
    },
    {
      "cell_type": "code",
      "execution_count": null,
      "metadata": {
        "id": "5Y2YD-u0Huct"
      },
      "outputs": [],
      "source": [
        "dforg = dforg.drop(['Unnamed: 0', 'lifecycle:transition' , 'case:concept:name' , 'amount', 'concept:name'], axis=1)"
      ]
    },
    {
      "cell_type": "markdown",
      "metadata": {
        "id": "KYaTGTh1I1qV"
      },
      "source": [
        "Now lets go do the logic for the rest of the columns."
      ]
    },
    {
      "cell_type": "code",
      "execution_count": null,
      "metadata": {
        "id": "YnqIFQZVI7j1"
      },
      "outputs": [],
      "source": [
        "dforg.head()"
      ]
    },
    {
      "cell_type": "code",
      "source": [
        "dforg.rename(columns = {'time:timestamp' : 'duration(days)'}, inplace = True)"
      ],
      "metadata": {
        "id": "orZK6rAvHVl4"
      },
      "execution_count": null,
      "outputs": []
    },
    {
      "cell_type": "code",
      "execution_count": null,
      "metadata": {
        "id": "CxQu89UCJHnN"
      },
      "outputs": [],
      "source": [
        "dic_for_res = {}\n",
        "\n",
        "for i in ca:\n",
        "  dic_for_res[i] = []"
      ]
    },
    {
      "cell_type": "code",
      "execution_count": null,
      "metadata": {
        "id": "jK0ieNd1MC6w"
      },
      "outputs": [],
      "source": [
        "from numpy import nan"
      ]
    },
    {
      "cell_type": "code",
      "execution_count": null,
      "metadata": {
        "id": "azeFVLwuJyU1"
      },
      "outputs": [],
      "source": [
        "for i,j in zip(df['case:concept:name'],df['org:resource']):\n",
        "  if pd.isnull(j) == False :\n",
        "    dic_for_res[i].append(j)"
      ]
    },
    {
      "cell_type": "code",
      "execution_count": null,
      "metadata": {
        "id": "Hj1ZhVaKNmr3"
      },
      "outputs": [],
      "source": [
        "xvb = df['org:resource'].dropna().unique().tolist()"
      ]
    },
    {
      "cell_type": "code",
      "execution_count": null,
      "metadata": {
        "id": "ZJQ2ZCyVP7Bh"
      },
      "outputs": [],
      "source": [
        "dx_dic = {}\n",
        "for col in dforg:\n",
        "    dx_dic[col] = dforg.columns.get_loc(col)"
      ]
    },
    {
      "cell_type": "code",
      "execution_count": null,
      "metadata": {
        "id": "_fIJpJitVQGF"
      },
      "outputs": [],
      "source": [
        "dx_dic[\"org:resource\"]"
      ]
    },
    {
      "cell_type": "code",
      "execution_count": null,
      "metadata": {
        "id": "DiE0vlhkM9n9"
      },
      "outputs": [],
      "source": [
        "for i in dforg['caseid']:\n",
        "  for j in dic_for_res[i]:\n",
        "    v = int(np.where(dforg[\"caseid\"] == i)[0])\n",
        "    dforg.iloc[v,1] = j"
      ]
    },
    {
      "cell_type": "code",
      "execution_count": null,
      "metadata": {
        "id": "G_SH449-V-7U"
      },
      "outputs": [],
      "source": [
        "dforg"
      ]
    },
    {
      "cell_type": "code",
      "execution_count": null,
      "metadata": {
        "colab": {
          "base_uri": "https://localhost:8080/"
        },
        "id": "qlHpUJutqaW9",
        "outputId": "42822806-055c-4d23-aeb0-c3a2da599da3"
      },
      "outputs": [
        {
          "data": {
            "text/plain": [
              "array(['NIL', nan, '#', 'G', 'N', 'K', '5', '3', 'A', 'I', 'D', 'T', 'E',\n",
              "       '@', 'M', 'Q', 'F', 'V', 'U', 'C', 'B', '$', 'Z', 'J', 'R', '2',\n",
              "       '4'], dtype=object)"
            ]
          },
          "execution_count": 45,
          "metadata": {},
          "output_type": "execute_result"
        }
      ],
      "source": [
        "df['dismissal'].unique()"
      ]
    },
    {
      "cell_type": "code",
      "execution_count": null,
      "metadata": {
        "id": "GwfpZsRBr4Ok"
      },
      "outputs": [],
      "source": [
        "dismis_uniq = df['dismissal'].unique()\n",
        "list(dismis_uniq)"
      ]
    },
    {
      "cell_type": "code",
      "execution_count": null,
      "metadata": {
        "id": "0LDj_vU_snZ7"
      },
      "outputs": [],
      "source": [
        "dismis_uniq = list(dismis_uniq)"
      ]
    },
    {
      "cell_type": "code",
      "execution_count": null,
      "metadata": {
        "id": "WwemjY-YssrO"
      },
      "outputs": [],
      "source": [
        "caseunique = list(df['case:concept:name'].unique())"
      ]
    },
    {
      "cell_type": "code",
      "execution_count": null,
      "metadata": {
        "id": "5PsxjEQks-gX"
      },
      "outputs": [],
      "source": [
        "l = {}\n",
        "for i,j in zip(df['case:concept:name'],df['dismissal']) :\n",
        "    if pd.isnull(j) == False :\n",
        "      l[i] = j"
      ]
    },
    {
      "cell_type": "code",
      "execution_count": null,
      "metadata": {
        "id": "NsGBqv2NvsG1"
      },
      "outputs": [],
      "source": [
        "df[df['dismissal'] == \"M\"]"
      ]
    },
    {
      "cell_type": "code",
      "execution_count": null,
      "metadata": {
        "id": "TMsS6vbTwQWE"
      },
      "outputs": [],
      "source": [
        "l[\"N23119\"]"
      ]
    },
    {
      "cell_type": "code",
      "execution_count": null,
      "metadata": {
        "id": "YvJYnslywUfU"
      },
      "outputs": [],
      "source": [
        "for i in dforg['caseid']:\n",
        "  v = int(np.where(dforg[\"caseid\"] == i)[0])\n",
        "  dforg.iloc[v,2] = l[i]"
      ]
    },
    {
      "cell_type": "code",
      "execution_count": null,
      "metadata": {
        "id": "sn4r_RNRzF7D"
      },
      "outputs": [],
      "source": [
        "l = {}\n",
        "for i,j in zip(df['case:concept:name'],df['totalPaymentAmount']):\n",
        "  if pd.isnull(j) == False:\n",
        "    l[i] = j"
      ]
    },
    {
      "cell_type": "code",
      "execution_count": null,
      "metadata": {
        "id": "lYNkB2xpzQnU"
      },
      "outputs": [],
      "source": [
        "for i in dforg['caseid']:\n",
        "  v = int(np.where(dforg[\"caseid\"] == i)[0])\n",
        "  dforg.iloc[v,4] = l[i]"
      ]
    },
    {
      "cell_type": "code",
      "execution_count": null,
      "metadata": {
        "colab": {
          "base_uri": "https://localhost:8080/"
        },
        "id": "Yk6hWkKAWByb",
        "outputId": "43e6fe02-3ca6-48a1-99e6-1b272cd78077"
      },
      "outputs": [
        {
          "data": {
            "text/plain": [
              "['Create Fine']"
            ]
          },
          "execution_count": 138,
          "metadata": {},
          "output_type": "execute_result"
        }
      ],
      "source": [
        "#df[df['vehicleClass'].isnull() == True]\n",
        "findactivity(\"vehicleClass\")"
      ]
    },
    {
      "cell_type": "code",
      "execution_count": null,
      "metadata": {
        "id": "IZYmyTtiWj5y"
      },
      "outputs": [],
      "source": [
        "showactivity(\"Create Fine\")"
      ]
    },
    {
      "cell_type": "code",
      "execution_count": null,
      "metadata": {
        "id": "rhXfoOaQRrBI"
      },
      "outputs": [],
      "source": [
        "l = {}\n",
        "for i,j in zip(df['case:concept:name'],df['vehicleClass']):\n",
        "  if pd.isnull(j) == False:\n",
        "    l[i] = j"
      ]
    },
    {
      "cell_type": "code",
      "execution_count": null,
      "metadata": {
        "colab": {
          "base_uri": "https://localhost:8080/",
          "height": 36
        },
        "id": "BT_kJr8Clrvj",
        "outputId": "ec6c9161-0933-477a-e318-88236db17ff4"
      },
      "outputs": [
        {
          "data": {
            "application/vnd.google.colaboratory.intrinsic+json": {
              "type": "string"
            },
            "text/plain": [
              "'A'"
            ]
          },
          "execution_count": 153,
          "metadata": {},
          "output_type": "execute_result"
        }
      ],
      "source": [
        "l[\"A100\"]"
      ]
    },
    {
      "cell_type": "code",
      "execution_count": null,
      "metadata": {
        "id": "_pc0WqnaT-WV"
      },
      "outputs": [],
      "source": [
        "np.unique(list(l.values()))"
      ]
    },
    {
      "cell_type": "code",
      "execution_count": null,
      "metadata": {
        "id": "todZkJLnU-s7"
      },
      "outputs": [],
      "source": [
        "for i in caseunique:\n",
        "  v = int(np.where(dforg[\"caseid\"] == i) [0])\n",
        "  dforg.iloc[v,3] = l[i]"
      ]
    },
    {
      "cell_type": "markdown",
      "metadata": {
        "id": "BluFhmtvi1O7"
      },
      "source": [
        "Now lets get every case duration time so we fill our next column ;)"
      ]
    },
    {
      "cell_type": "code",
      "execution_count": null,
      "metadata": {
        "id": "R73R80YvjDzi"
      },
      "outputs": [],
      "source": [
        "from pm4py.statistics.traces.generic.log import case_statistics\n",
        "median_case_duration = case_statistics.get_median_caseduration(log, parameters={\n",
        "    case_statistics.Parameters.TIMESTAMP_KEY: \"time:timestamp\"\n",
        "})"
      ]
    },
    {
      "cell_type": "code",
      "execution_count": null,
      "metadata": {
        "id": "hy1yYn5VavdU"
      },
      "outputs": [],
      "source": [
        "from pm4py.statistics.traces.generic.log import case_statistics\n",
        "all_case_durations = case_statistics.get_all_casedurations(log, parameters={\n",
        "    case_statistics.Parameters.TIMESTAMP_KEY: \"time:timestamp\"})"
      ]
    },
    {
      "cell_type": "code",
      "execution_count": null,
      "metadata": {
        "id": "0MgjN-GKk06y"
      },
      "outputs": [],
      "source": [
        "p = []\n",
        "for i in all_case_durations:\n",
        "  if i == 0 :\n",
        "    pass\n",
        "  else:\n",
        "    p.append(i)\n"
      ]
    },
    {
      "cell_type": "code",
      "execution_count": null,
      "metadata": {
        "id": "k-sZPghe_nww"
      },
      "outputs": [],
      "source": [
        "import math\n",
        "all_case_duration_hour = []\n",
        "for i in all_case_durations:\n",
        "  min = i/60\n",
        "  hour = min/60\n",
        "  day = hour/24\n",
        "  value = math.ceil(day)\n",
        "  all_case_duration_hour.append(value)"
      ]
    },
    {
      "cell_type": "code",
      "execution_count": null,
      "metadata": {
        "id": "CuXbPGBFA8sp"
      },
      "outputs": [],
      "source": [
        "case_arrival_ratio = pm4py.get_case_arrival_average(log)"
      ]
    },
    {
      "cell_type": "code",
      "execution_count": null,
      "metadata": {
        "id": "Iyk1OMW_DvfJ"
      },
      "outputs": [],
      "source": [
        "df"
      ]
    },
    {
      "cell_type": "code",
      "execution_count": null,
      "metadata": {
        "id": "_lCZ5OUWpV1V"
      },
      "outputs": [],
      "source": [
        "day_dic = {}\n",
        "countss = []\n",
        "caseunique = list(df['case:concept:name'].unique())\n",
        "for i in caseunique:\n",
        "  dfk = df[df['case:concept:name'] == i]\n",
        "  dfk.sort_values(by=\"time:timestamp\")\n",
        "  row_num = dfk.shape[0]\n",
        "  duration = dfk.iloc[(row_num - 1),7] - dfk.iloc[0,7]\n",
        "  durationday = duration.days\n",
        "  day_dic[i] = durationday\n",
        "  countss.append(i)"
      ]
    },
    {
      "cell_type": "code",
      "execution_count": null,
      "metadata": {
        "id": "8VgaOL3qBrxN"
      },
      "outputs": [],
      "source": [
        "c = df.iloc[1,7] - df.iloc[0,7]\n",
        "c.days"
      ]
    },
    {
      "cell_type": "code",
      "execution_count": null,
      "metadata": {
        "id": "NaBl7rnK9aEz"
      },
      "outputs": [],
      "source": [
        "len(day_dic)"
      ]
    },
    {
      "cell_type": "code",
      "source": [
        "def replaceinnew (y):\n",
        "  columns = dforg.columns\n",
        "  l = {}\n",
        "  for i,j in zip(df['case:concept:name'],df[y]):\n",
        "    if pd.isnull(j) == False:\n",
        "      l[i] = j\n",
        "  for i in l:\n",
        "    v = int(np.where(dforg[\"caseid\"] == i)[0])\n",
        "    m = int(columns.get_loc(y))\n",
        "    dforg.iloc[v,m] = l[i]\n",
        "  dforg.to_csv(\"/content/drive/MyDrive/BPI Dataset/DFS/dforg.csv\")"
      ],
      "metadata": {
        "id": "c-mWl9G6JPkt"
      },
      "execution_count": null,
      "outputs": []
    },
    {
      "cell_type": "code",
      "source": [
        "replaceinnew('article')"
      ],
      "metadata": {
        "id": "3TRk5dZ8LYtQ"
      },
      "execution_count": null,
      "outputs": []
    },
    {
      "cell_type": "code",
      "source": [
        "replaceinnew('points')"
      ],
      "metadata": {
        "id": "lQUFerJnWQMD"
      },
      "execution_count": null,
      "outputs": []
    },
    {
      "cell_type": "code",
      "source": [
        "replaceinnew('notificationType')"
      ],
      "metadata": {
        "id": "E7Z-xuKWj2Jg"
      },
      "execution_count": null,
      "outputs": []
    },
    {
      "cell_type": "code",
      "source": [
        "replaceinnew('matricola')"
      ],
      "metadata": {
        "id": "JRWsmpsiqijs"
      },
      "execution_count": null,
      "outputs": []
    },
    {
      "cell_type": "code",
      "source": [
        "dforg = dforg.drop(['matricola', 'lastSent' , 'paymentAmount'], axis=1)"
      ],
      "metadata": {
        "id": "gM5e57ATq53U"
      },
      "execution_count": null,
      "outputs": []
    },
    {
      "cell_type": "code",
      "source": [
        "dforg = dforg.drop(['points'], axis=1)"
      ],
      "metadata": {
        "id": "HSRakuNLrn90"
      },
      "execution_count": null,
      "outputs": []
    },
    {
      "cell_type": "code",
      "source": [
        "dforg"
      ],
      "metadata": {
        "id": "09-vdq8XNIf_"
      },
      "execution_count": null,
      "outputs": []
    },
    {
      "cell_type": "code",
      "source": [
        "columns = dforg.columns\n",
        "l = {}\n",
        "for i,j in zip(df['case:concept:name'],df['expense']):\n",
        "  if pd.isnull(j) == False:\n",
        "    l[i] = []\n",
        "    l[i].append(j)\n",
        "for i in l:\n",
        "  v = int(np.where(dforg[\"caseid\"] == i)[0])\n",
        "  m = int(columns.get_loc('expense'))\n",
        "  dforg.iloc[v,m] = sum(l[i])\n",
        "dforg.to_csv(\"/content/drive/MyDrive/BPI Dataset/DFS/dforg.csv\")"
      ],
      "metadata": {
        "id": "Oq0feTMtrvuw"
      },
      "execution_count": null,
      "outputs": []
    },
    {
      "cell_type": "code",
      "execution_count": null,
      "metadata": {
        "id": "AXX93AglQOBa"
      },
      "outputs": [],
      "source": [
        "caseunique = list(df['case:concept:name'].unique())"
      ]
    },
    {
      "cell_type": "code",
      "execution_count": null,
      "metadata": {
        "id": "NdcyCVX2QFIB"
      },
      "outputs": [],
      "source": [
        "for i in caseunique:\n",
        "  v = int(np.where(dforg[\"caseid\"] == i)[0])\n",
        "  dforg.iloc[v,5] = day_dic[i]"
      ]
    },
    {
      "cell_type": "code",
      "execution_count": null,
      "metadata": {
        "id": "3otTcYUMbCkM"
      },
      "outputs": [],
      "source": [
        "from pm4py.statistics.traces.generic.log import case_arrival\n",
        "case_arrival_ratio = case_arrival.get_case_arrival_avg(log, parameters={\n",
        "    case_arrival.Parameters.TIMESTAMP_KEY: \"time:timestamp\"})"
      ]
    },
    {
      "cell_type": "code",
      "execution_count": null,
      "metadata": {
        "id": "lBFGQR_jcGI7"
      },
      "outputs": [],
      "source": [
        "## Import the alpha_miner algorithm\n",
        "from pm4py.algo.discovery.alpha import algorithm as alpha_miner\n",
        "net, initial_marking, final_marking = alpha_miner.apply(log)\n",
        "## Import the petrinet visualizer object\n",
        "from pm4py.visualization.petrinet import visualizer as pn_visualizer\n",
        "# Visualise \n",
        "gviz = pn_visualizer.apply(net, initial_marking, final_marking) \n",
        "pn_visualizer.view(gviz)"
      ]
    },
    {
      "cell_type": "code",
      "execution_count": null,
      "metadata": {
        "id": "G_csJ7v0cqPN"
      },
      "outputs": [],
      "source": [
        "gviz = pn_visualizer.apply(net, initial_marking, final_marking,variant=pn_visualizer.Variants.FREQUENCY, log=log)\n",
        "pn_visualizer.view(gviz)"
      ]
    },
    {
      "cell_type": "code",
      "execution_count": null,
      "metadata": {
        "id": "xsjuv7R9lx6Q"
      },
      "outputs": [],
      "source": [
        "from pm4py.algo.filtering.log.attributes import attributes_filter\n",
        "\n",
        "x, y = attributes_filter.get_kde_date_attribute(log, attribute=\"time:timestamp\")\n",
        "\n",
        "from pm4py.visualization.graphs import visualizer as graphs_visualizer\n",
        "\n",
        "gviz = graphs_visualizer.apply_plot(x, y, variant=graphs_visualizer.Variants.DATES)\n",
        "graphs_visualizer.view(gviz)"
      ]
    },
    {
      "cell_type": "code",
      "execution_count": null,
      "metadata": {
        "id": "Py1Nk6ggl7ej"
      },
      "outputs": [],
      "source": [
        "from pm4py.statistics.eventually_follows.log import get as efg_get\n",
        "efg_graph = efg_get.apply(log)\n",
        "print(efg_graph)"
      ]
    },
    {
      "cell_type": "code",
      "execution_count": null,
      "metadata": {
        "id": "p3mMEaMLpB11"
      },
      "outputs": [],
      "source": [
        "df[\"concept:name\"].unique()"
      ]
    },
    {
      "cell_type": "code",
      "execution_count": null,
      "metadata": {
        "id": "w4Pu0x1woCde"
      },
      "outputs": [],
      "source": [
        "pm4py.view_performance_spectrum(log, [\"Create Fine\" , \"Send Fine\" , \"Insert Fine Notification\", \"Send for Credit Collection\"], format=\"png\")"
      ]
    },
    {
      "cell_type": "markdown",
      "source": [
        "# Machine Learning"
      ],
      "metadata": {
        "id": "IPyr2pLX02VE"
      }
    },
    {
      "cell_type": "code",
      "source": [
        "dforg"
      ],
      "metadata": {
        "colab": {
          "base_uri": "https://localhost:8080/",
          "height": 588
        },
        "id": "-XVlhx71jbN0",
        "outputId": "b3ebae2a-dfed-4942-a7ad-0d0012e31885"
      },
      "execution_count": 11,
      "outputs": [
        {
          "output_type": "execute_result",
          "data": {
            "text/plain": [
              "        caseid  org:resource  dismissal  vehicleClass  totalPaymentAmount  \\\n",
              "index                                                                       \n",
              "0           A1            80         19             0                   4   \n",
              "1         A100            80         19             0                   4   \n",
              "2       A10000            80         19             0                   1   \n",
              "3       A10001            63          0             0                   4   \n",
              "4       A10004            63         19             0                   4   \n",
              "...        ...           ...        ...           ...                 ...   \n",
              "150365   V9995            20         19             0                   4   \n",
              "150366   V9996            20         19             0                   2   \n",
              "150367   V9997            20         19             2                   4   \n",
              "150368   V9998            20         19             0                   4   \n",
              "150369   V9999            20         19             0                   4   \n",
              "\n",
              "        duration(days)  article  expense  notificationType  Create Fine  \\\n",
              "index                                                                     \n",
              "0                134.0    157.0    11.00                 2          1.0   \n",
              "1                971.0    157.0    11.00                 1          1.0   \n",
              "2                549.0    157.0    13.00                 1          1.0   \n",
              "3                188.0    157.0    13.00                 1          1.0   \n",
              "4                740.0    157.0    13.00                 1          1.0   \n",
              "...                ...      ...      ...               ...          ...   \n",
              "150365           490.0    142.0    15.16                 1          1.0   \n",
              "150366            60.0    142.0    10.00                 2          1.0   \n",
              "150367           490.0    142.0    15.16                 1          1.0   \n",
              "150368           490.0    142.0    10.00                 1          1.0   \n",
              "150369           490.0    142.0    15.16                 1          1.0   \n",
              "\n",
              "        Send Fine  Insert Fine Notification  Add penalty  \\\n",
              "index                                                      \n",
              "0             1.0                       0.0          0.0   \n",
              "1             1.0                       1.0          1.0   \n",
              "2             1.0                       1.0          1.0   \n",
              "3             1.0                       1.0          1.0   \n",
              "4             1.0                       1.0          1.0   \n",
              "...           ...                       ...          ...   \n",
              "150365        1.0                       1.0          1.0   \n",
              "150366        1.0                       0.0          0.0   \n",
              "150367        1.0                       1.0          1.0   \n",
              "150368        1.0                       1.0          1.0   \n",
              "150369        1.0                       1.0          1.0   \n",
              "\n",
              "        Send for Credit Collection  Payment  Insert Date Appeal to Prefecture  \\\n",
              "index                                                                           \n",
              "0                              0.0      0.0                               0.0   \n",
              "1                              1.0      0.0                               0.0   \n",
              "2                              0.0      1.0                               0.0   \n",
              "3                              0.0      0.0                               1.0   \n",
              "4                              1.0      0.0                               0.0   \n",
              "...                            ...      ...                               ...   \n",
              "150365                         1.0      0.0                               0.0   \n",
              "150366                         0.0      1.0                               0.0   \n",
              "150367                         1.0      0.0                               0.0   \n",
              "150368                         1.0      0.0                               0.0   \n",
              "150369                         1.0      0.0                               0.0   \n",
              "\n",
              "        Send Appeal to Prefecture  Receive Result Appeal from Prefecture  \\\n",
              "index                                                                      \n",
              "0                             0.0                                    0.0   \n",
              "1                             0.0                                    0.0   \n",
              "2                             0.0                                    0.0   \n",
              "3                             1.0                                    0.0   \n",
              "4                             0.0                                    0.0   \n",
              "...                           ...                                    ...   \n",
              "150365                        0.0                                    0.0   \n",
              "150366                        0.0                                    0.0   \n",
              "150367                        0.0                                    0.0   \n",
              "150368                        0.0                                    0.0   \n",
              "150369                        0.0                                    0.0   \n",
              "\n",
              "        Notify Result Appeal to Offender  Appeal to Judge  \n",
              "index                                                      \n",
              "0                                    0.0              0.0  \n",
              "1                                    0.0              0.0  \n",
              "2                                    0.0              0.0  \n",
              "3                                    0.0              0.0  \n",
              "4                                    0.0              0.0  \n",
              "...                                  ...              ...  \n",
              "150365                               0.0              0.0  \n",
              "150366                               0.0              0.0  \n",
              "150367                               0.0              0.0  \n",
              "150368                               0.0              0.0  \n",
              "150369                               0.0              0.0  \n",
              "\n",
              "[150370 rows x 20 columns]"
            ],
            "text/html": [
              "\n",
              "  <div id=\"df-7efc18d5-d0b8-41c3-a491-623909c06bcd\">\n",
              "    <div class=\"colab-df-container\">\n",
              "      <div>\n",
              "<style scoped>\n",
              "    .dataframe tbody tr th:only-of-type {\n",
              "        vertical-align: middle;\n",
              "    }\n",
              "\n",
              "    .dataframe tbody tr th {\n",
              "        vertical-align: top;\n",
              "    }\n",
              "\n",
              "    .dataframe thead th {\n",
              "        text-align: right;\n",
              "    }\n",
              "</style>\n",
              "<table border=\"1\" class=\"dataframe\">\n",
              "  <thead>\n",
              "    <tr style=\"text-align: right;\">\n",
              "      <th></th>\n",
              "      <th>caseid</th>\n",
              "      <th>org:resource</th>\n",
              "      <th>dismissal</th>\n",
              "      <th>vehicleClass</th>\n",
              "      <th>totalPaymentAmount</th>\n",
              "      <th>duration(days)</th>\n",
              "      <th>article</th>\n",
              "      <th>expense</th>\n",
              "      <th>notificationType</th>\n",
              "      <th>Create Fine</th>\n",
              "      <th>Send Fine</th>\n",
              "      <th>Insert Fine Notification</th>\n",
              "      <th>Add penalty</th>\n",
              "      <th>Send for Credit Collection</th>\n",
              "      <th>Payment</th>\n",
              "      <th>Insert Date Appeal to Prefecture</th>\n",
              "      <th>Send Appeal to Prefecture</th>\n",
              "      <th>Receive Result Appeal from Prefecture</th>\n",
              "      <th>Notify Result Appeal to Offender</th>\n",
              "      <th>Appeal to Judge</th>\n",
              "    </tr>\n",
              "    <tr>\n",
              "      <th>index</th>\n",
              "      <th></th>\n",
              "      <th></th>\n",
              "      <th></th>\n",
              "      <th></th>\n",
              "      <th></th>\n",
              "      <th></th>\n",
              "      <th></th>\n",
              "      <th></th>\n",
              "      <th></th>\n",
              "      <th></th>\n",
              "      <th></th>\n",
              "      <th></th>\n",
              "      <th></th>\n",
              "      <th></th>\n",
              "      <th></th>\n",
              "      <th></th>\n",
              "      <th></th>\n",
              "      <th></th>\n",
              "      <th></th>\n",
              "      <th></th>\n",
              "    </tr>\n",
              "  </thead>\n",
              "  <tbody>\n",
              "    <tr>\n",
              "      <th>0</th>\n",
              "      <td>A1</td>\n",
              "      <td>80</td>\n",
              "      <td>19</td>\n",
              "      <td>0</td>\n",
              "      <td>4</td>\n",
              "      <td>134.0</td>\n",
              "      <td>157.0</td>\n",
              "      <td>11.00</td>\n",
              "      <td>2</td>\n",
              "      <td>1.0</td>\n",
              "      <td>1.0</td>\n",
              "      <td>0.0</td>\n",
              "      <td>0.0</td>\n",
              "      <td>0.0</td>\n",
              "      <td>0.0</td>\n",
              "      <td>0.0</td>\n",
              "      <td>0.0</td>\n",
              "      <td>0.0</td>\n",
              "      <td>0.0</td>\n",
              "      <td>0.0</td>\n",
              "    </tr>\n",
              "    <tr>\n",
              "      <th>1</th>\n",
              "      <td>A100</td>\n",
              "      <td>80</td>\n",
              "      <td>19</td>\n",
              "      <td>0</td>\n",
              "      <td>4</td>\n",
              "      <td>971.0</td>\n",
              "      <td>157.0</td>\n",
              "      <td>11.00</td>\n",
              "      <td>1</td>\n",
              "      <td>1.0</td>\n",
              "      <td>1.0</td>\n",
              "      <td>1.0</td>\n",
              "      <td>1.0</td>\n",
              "      <td>1.0</td>\n",
              "      <td>0.0</td>\n",
              "      <td>0.0</td>\n",
              "      <td>0.0</td>\n",
              "      <td>0.0</td>\n",
              "      <td>0.0</td>\n",
              "      <td>0.0</td>\n",
              "    </tr>\n",
              "    <tr>\n",
              "      <th>2</th>\n",
              "      <td>A10000</td>\n",
              "      <td>80</td>\n",
              "      <td>19</td>\n",
              "      <td>0</td>\n",
              "      <td>1</td>\n",
              "      <td>549.0</td>\n",
              "      <td>157.0</td>\n",
              "      <td>13.00</td>\n",
              "      <td>1</td>\n",
              "      <td>1.0</td>\n",
              "      <td>1.0</td>\n",
              "      <td>1.0</td>\n",
              "      <td>1.0</td>\n",
              "      <td>0.0</td>\n",
              "      <td>1.0</td>\n",
              "      <td>0.0</td>\n",
              "      <td>0.0</td>\n",
              "      <td>0.0</td>\n",
              "      <td>0.0</td>\n",
              "      <td>0.0</td>\n",
              "    </tr>\n",
              "    <tr>\n",
              "      <th>3</th>\n",
              "      <td>A10001</td>\n",
              "      <td>63</td>\n",
              "      <td>0</td>\n",
              "      <td>0</td>\n",
              "      <td>4</td>\n",
              "      <td>188.0</td>\n",
              "      <td>157.0</td>\n",
              "      <td>13.00</td>\n",
              "      <td>1</td>\n",
              "      <td>1.0</td>\n",
              "      <td>1.0</td>\n",
              "      <td>1.0</td>\n",
              "      <td>1.0</td>\n",
              "      <td>0.0</td>\n",
              "      <td>0.0</td>\n",
              "      <td>1.0</td>\n",
              "      <td>1.0</td>\n",
              "      <td>0.0</td>\n",
              "      <td>0.0</td>\n",
              "      <td>0.0</td>\n",
              "    </tr>\n",
              "    <tr>\n",
              "      <th>4</th>\n",
              "      <td>A10004</td>\n",
              "      <td>63</td>\n",
              "      <td>19</td>\n",
              "      <td>0</td>\n",
              "      <td>4</td>\n",
              "      <td>740.0</td>\n",
              "      <td>157.0</td>\n",
              "      <td>13.00</td>\n",
              "      <td>1</td>\n",
              "      <td>1.0</td>\n",
              "      <td>1.0</td>\n",
              "      <td>1.0</td>\n",
              "      <td>1.0</td>\n",
              "      <td>1.0</td>\n",
              "      <td>0.0</td>\n",
              "      <td>0.0</td>\n",
              "      <td>0.0</td>\n",
              "      <td>0.0</td>\n",
              "      <td>0.0</td>\n",
              "      <td>0.0</td>\n",
              "    </tr>\n",
              "    <tr>\n",
              "      <th>...</th>\n",
              "      <td>...</td>\n",
              "      <td>...</td>\n",
              "      <td>...</td>\n",
              "      <td>...</td>\n",
              "      <td>...</td>\n",
              "      <td>...</td>\n",
              "      <td>...</td>\n",
              "      <td>...</td>\n",
              "      <td>...</td>\n",
              "      <td>...</td>\n",
              "      <td>...</td>\n",
              "      <td>...</td>\n",
              "      <td>...</td>\n",
              "      <td>...</td>\n",
              "      <td>...</td>\n",
              "      <td>...</td>\n",
              "      <td>...</td>\n",
              "      <td>...</td>\n",
              "      <td>...</td>\n",
              "      <td>...</td>\n",
              "    </tr>\n",
              "    <tr>\n",
              "      <th>150365</th>\n",
              "      <td>V9995</td>\n",
              "      <td>20</td>\n",
              "      <td>19</td>\n",
              "      <td>0</td>\n",
              "      <td>4</td>\n",
              "      <td>490.0</td>\n",
              "      <td>142.0</td>\n",
              "      <td>15.16</td>\n",
              "      <td>1</td>\n",
              "      <td>1.0</td>\n",
              "      <td>1.0</td>\n",
              "      <td>1.0</td>\n",
              "      <td>1.0</td>\n",
              "      <td>1.0</td>\n",
              "      <td>0.0</td>\n",
              "      <td>0.0</td>\n",
              "      <td>0.0</td>\n",
              "      <td>0.0</td>\n",
              "      <td>0.0</td>\n",
              "      <td>0.0</td>\n",
              "    </tr>\n",
              "    <tr>\n",
              "      <th>150366</th>\n",
              "      <td>V9996</td>\n",
              "      <td>20</td>\n",
              "      <td>19</td>\n",
              "      <td>0</td>\n",
              "      <td>2</td>\n",
              "      <td>60.0</td>\n",
              "      <td>142.0</td>\n",
              "      <td>10.00</td>\n",
              "      <td>2</td>\n",
              "      <td>1.0</td>\n",
              "      <td>1.0</td>\n",
              "      <td>0.0</td>\n",
              "      <td>0.0</td>\n",
              "      <td>0.0</td>\n",
              "      <td>1.0</td>\n",
              "      <td>0.0</td>\n",
              "      <td>0.0</td>\n",
              "      <td>0.0</td>\n",
              "      <td>0.0</td>\n",
              "      <td>0.0</td>\n",
              "    </tr>\n",
              "    <tr>\n",
              "      <th>150367</th>\n",
              "      <td>V9997</td>\n",
              "      <td>20</td>\n",
              "      <td>19</td>\n",
              "      <td>2</td>\n",
              "      <td>4</td>\n",
              "      <td>490.0</td>\n",
              "      <td>142.0</td>\n",
              "      <td>15.16</td>\n",
              "      <td>1</td>\n",
              "      <td>1.0</td>\n",
              "      <td>1.0</td>\n",
              "      <td>1.0</td>\n",
              "      <td>1.0</td>\n",
              "      <td>1.0</td>\n",
              "      <td>0.0</td>\n",
              "      <td>0.0</td>\n",
              "      <td>0.0</td>\n",
              "      <td>0.0</td>\n",
              "      <td>0.0</td>\n",
              "      <td>0.0</td>\n",
              "    </tr>\n",
              "    <tr>\n",
              "      <th>150368</th>\n",
              "      <td>V9998</td>\n",
              "      <td>20</td>\n",
              "      <td>19</td>\n",
              "      <td>0</td>\n",
              "      <td>4</td>\n",
              "      <td>490.0</td>\n",
              "      <td>142.0</td>\n",
              "      <td>10.00</td>\n",
              "      <td>1</td>\n",
              "      <td>1.0</td>\n",
              "      <td>1.0</td>\n",
              "      <td>1.0</td>\n",
              "      <td>1.0</td>\n",
              "      <td>1.0</td>\n",
              "      <td>0.0</td>\n",
              "      <td>0.0</td>\n",
              "      <td>0.0</td>\n",
              "      <td>0.0</td>\n",
              "      <td>0.0</td>\n",
              "      <td>0.0</td>\n",
              "    </tr>\n",
              "    <tr>\n",
              "      <th>150369</th>\n",
              "      <td>V9999</td>\n",
              "      <td>20</td>\n",
              "      <td>19</td>\n",
              "      <td>0</td>\n",
              "      <td>4</td>\n",
              "      <td>490.0</td>\n",
              "      <td>142.0</td>\n",
              "      <td>15.16</td>\n",
              "      <td>1</td>\n",
              "      <td>1.0</td>\n",
              "      <td>1.0</td>\n",
              "      <td>1.0</td>\n",
              "      <td>1.0</td>\n",
              "      <td>1.0</td>\n",
              "      <td>0.0</td>\n",
              "      <td>0.0</td>\n",
              "      <td>0.0</td>\n",
              "      <td>0.0</td>\n",
              "      <td>0.0</td>\n",
              "      <td>0.0</td>\n",
              "    </tr>\n",
              "  </tbody>\n",
              "</table>\n",
              "<p>150370 rows × 20 columns</p>\n",
              "</div>\n",
              "      <button class=\"colab-df-convert\" onclick=\"convertToInteractive('df-7efc18d5-d0b8-41c3-a491-623909c06bcd')\"\n",
              "              title=\"Convert this dataframe to an interactive table.\"\n",
              "              style=\"display:none;\">\n",
              "        \n",
              "  <svg xmlns=\"http://www.w3.org/2000/svg\" height=\"24px\"viewBox=\"0 0 24 24\"\n",
              "       width=\"24px\">\n",
              "    <path d=\"M0 0h24v24H0V0z\" fill=\"none\"/>\n",
              "    <path d=\"M18.56 5.44l.94 2.06.94-2.06 2.06-.94-2.06-.94-.94-2.06-.94 2.06-2.06.94zm-11 1L8.5 8.5l.94-2.06 2.06-.94-2.06-.94L8.5 2.5l-.94 2.06-2.06.94zm10 10l.94 2.06.94-2.06 2.06-.94-2.06-.94-.94-2.06-.94 2.06-2.06.94z\"/><path d=\"M17.41 7.96l-1.37-1.37c-.4-.4-.92-.59-1.43-.59-.52 0-1.04.2-1.43.59L10.3 9.45l-7.72 7.72c-.78.78-.78 2.05 0 2.83L4 21.41c.39.39.9.59 1.41.59.51 0 1.02-.2 1.41-.59l7.78-7.78 2.81-2.81c.8-.78.8-2.07 0-2.86zM5.41 20L4 18.59l7.72-7.72 1.47 1.35L5.41 20z\"/>\n",
              "  </svg>\n",
              "      </button>\n",
              "      \n",
              "  <style>\n",
              "    .colab-df-container {\n",
              "      display:flex;\n",
              "      flex-wrap:wrap;\n",
              "      gap: 12px;\n",
              "    }\n",
              "\n",
              "    .colab-df-convert {\n",
              "      background-color: #E8F0FE;\n",
              "      border: none;\n",
              "      border-radius: 50%;\n",
              "      cursor: pointer;\n",
              "      display: none;\n",
              "      fill: #1967D2;\n",
              "      height: 32px;\n",
              "      padding: 0 0 0 0;\n",
              "      width: 32px;\n",
              "    }\n",
              "\n",
              "    .colab-df-convert:hover {\n",
              "      background-color: #E2EBFA;\n",
              "      box-shadow: 0px 1px 2px rgba(60, 64, 67, 0.3), 0px 1px 3px 1px rgba(60, 64, 67, 0.15);\n",
              "      fill: #174EA6;\n",
              "    }\n",
              "\n",
              "    [theme=dark] .colab-df-convert {\n",
              "      background-color: #3B4455;\n",
              "      fill: #D2E3FC;\n",
              "    }\n",
              "\n",
              "    [theme=dark] .colab-df-convert:hover {\n",
              "      background-color: #434B5C;\n",
              "      box-shadow: 0px 1px 3px 1px rgba(0, 0, 0, 0.15);\n",
              "      filter: drop-shadow(0px 1px 2px rgba(0, 0, 0, 0.3));\n",
              "      fill: #FFFFFF;\n",
              "    }\n",
              "  </style>\n",
              "\n",
              "      <script>\n",
              "        const buttonEl =\n",
              "          document.querySelector('#df-7efc18d5-d0b8-41c3-a491-623909c06bcd button.colab-df-convert');\n",
              "        buttonEl.style.display =\n",
              "          google.colab.kernel.accessAllowed ? 'block' : 'none';\n",
              "\n",
              "        async function convertToInteractive(key) {\n",
              "          const element = document.querySelector('#df-7efc18d5-d0b8-41c3-a491-623909c06bcd');\n",
              "          const dataTable =\n",
              "            await google.colab.kernel.invokeFunction('convertToInteractive',\n",
              "                                                     [key], {});\n",
              "          if (!dataTable) return;\n",
              "\n",
              "          const docLinkHtml = 'Like what you see? Visit the ' +\n",
              "            '<a target=\"_blank\" href=https://colab.research.google.com/notebooks/data_table.ipynb>data table notebook</a>'\n",
              "            + ' to learn more about interactive tables.';\n",
              "          element.innerHTML = '';\n",
              "          dataTable['output_type'] = 'display_data';\n",
              "          await google.colab.output.renderOutput(dataTable, element);\n",
              "          const docLink = document.createElement('div');\n",
              "          docLink.innerHTML = docLinkHtml;\n",
              "          element.appendChild(docLink);\n",
              "        }\n",
              "      </script>\n",
              "    </div>\n",
              "  </div>\n",
              "  "
            ]
          },
          "metadata": {},
          "execution_count": 11
        }
      ]
    },
    {
      "cell_type": "code",
      "source": [
        "import seaborn as sns\n",
        "x = dforg[dforg['totalPaymentAmount']>0]\n",
        "y = x[x['totalPaymentAmount']<200]\n",
        "sns.displot(y['totalPaymentAmount'],bins = 3)"
      ],
      "metadata": {
        "id": "xWUX4fVXkPr_"
      },
      "execution_count": null,
      "outputs": []
    },
    {
      "cell_type": "code",
      "source": [
        "for i,j in zip(dforg['caseid'],dforg['totalPaymentAmount']):\n",
        "  v = int(np.where(dforg[\"caseid\"] == i)[0])\n",
        "  if j == 0:\n",
        "    dforg.iloc[v,4] = \"zero\"\n",
        "  elif (j>0 and j<60):\n",
        "    dforg.iloc[v,4] = \"A\"\n",
        "  elif (j>= 60 and j<125):\n",
        "    dforg.iloc[v,4] = \"B\"\n",
        "  elif (j>=125 and j<= 200):\n",
        "    dforg.iloc[v,4] = \"C\"\n",
        "  else:\n",
        "    dforg.iloc[v,4] = \"D\""
      ],
      "metadata": {
        "id": "OzrQoC5ymbNI"
      },
      "execution_count": null,
      "outputs": []
    },
    {
      "cell_type": "code",
      "source": [
        "dforg[dforg['totalPaymentAmount'] == \"D\"]"
      ],
      "metadata": {
        "id": "Jlg2HUujpQPg"
      },
      "execution_count": null,
      "outputs": []
    },
    {
      "cell_type": "code",
      "source": [
        "import matplotlib.pyplot as plt\n",
        "from sklearn import tree\n",
        "from sklearn.model_selection import train_test_split"
      ],
      "metadata": {
        "id": "KcCKQlWc09wv"
      },
      "execution_count": 18,
      "outputs": []
    },
    {
      "cell_type": "code",
      "source": [
        "from sklearn import preprocessing\n",
        "le = preprocessing.LabelEncoder()\n",
        "le.fit(dforg['vehicleClass'])\n",
        "list(le.classes_)\n",
        "dforg['vehicleClass'] = le.transform(dforg['vehicleClass'])"
      ],
      "metadata": {
        "id": "H_8aJVhtzwVp"
      },
      "execution_count": null,
      "outputs": []
    },
    {
      "cell_type": "code",
      "source": [
        "le = preprocessing.LabelEncoder()\n",
        "le.fit(dforg['org:resource'])\n",
        "list(le.classes_)\n",
        "dforg['org:resource'] = le.transform(dforg['org:resource'])"
      ],
      "metadata": {
        "id": "cX0b2u4V1CxV"
      },
      "execution_count": null,
      "outputs": []
    },
    {
      "cell_type": "code",
      "source": [
        "dforg[dforg['totalPaymentAmount'] == \"D\"]"
      ],
      "metadata": {
        "id": "GLK8NpP90tDY"
      },
      "execution_count": null,
      "outputs": []
    },
    {
      "cell_type": "code",
      "source": [
        "list(dforg['org:resource'].unique()).count(99)"
      ],
      "metadata": {
        "id": "JCd9V2e51YH_"
      },
      "execution_count": null,
      "outputs": []
    },
    {
      "cell_type": "code",
      "source": [
        "le = preprocessing.LabelEncoder()\n",
        "le.fit(dforg['dismissal'])\n",
        "list(le.classes_)\n",
        "dforg['dismissal'] = le.transform(dforg['dismissal'])"
      ],
      "metadata": {
        "id": "7X3eYV752C55"
      },
      "execution_count": null,
      "outputs": []
    },
    {
      "cell_type": "code",
      "source": [
        "le = preprocessing.LabelEncoder()\n",
        "le.fit(dforg['totalPaymentAmount'])\n",
        "list(le.classes_)\n",
        "dforg['totalPaymentAmount'] = le.transform(dforg['totalPaymentAmount'])"
      ],
      "metadata": {
        "colab": {
          "base_uri": "https://localhost:8080/"
        },
        "id": "myffZ8cU2ZqY",
        "outputId": "e477426d-507e-4466-ad67-cded2baf5fc7"
      },
      "execution_count": null,
      "outputs": [
        {
          "output_type": "execute_result",
          "data": {
            "text/plain": [
              "[0, 1, 2, 3, 4]"
            ]
          },
          "metadata": {},
          "execution_count": 77
        }
      ]
    },
    {
      "cell_type": "code",
      "source": [
        "le = preprocessing.LabelEncoder()\n",
        "le.fit(dforg['notificationType'])\n",
        "list(le.classes_)\n",
        "dforg['notificationType'] = le.transform(dforg['notificationType'])"
      ],
      "metadata": {
        "id": "QoNirtcf2jbn"
      },
      "execution_count": null,
      "outputs": []
    },
    {
      "cell_type": "code",
      "source": [
        "[dforg.corr()['totalPaymentAmount']]"
      ],
      "metadata": {
        "colab": {
          "base_uri": "https://localhost:8080/"
        },
        "id": "tcjwTSJc30r2",
        "outputId": "6e964cab-b380-4442-b4e2-a43f6b0e2eb8"
      },
      "execution_count": null,
      "outputs": [
        {
          "output_type": "execute_result",
          "data": {
            "text/plain": [
              "[org:resource                            -0.047544\n",
              " dismissal                               -0.111357\n",
              " vehicleClass                             0.044099\n",
              " totalPaymentAmount                       1.000000\n",
              " duration(days)                           0.612047\n",
              " article                                  0.050984\n",
              " expense                                  0.015984\n",
              " notificationType                        -0.518731\n",
              " Create Fine                                   NaN\n",
              " Send Fine                                0.777842\n",
              " Insert Fine Notification                 0.521406\n",
              " Add penalty                              0.521406\n",
              " Send for Credit Collection               0.674065\n",
              " Payment                                 -0.978405\n",
              " Insert Date Appeal to Prefecture         0.121484\n",
              " Send Appeal to Prefecture                0.122539\n",
              " Receive Result Appeal from Prefecture    0.019189\n",
              " Notify Result Appeal to Offender         0.017452\n",
              " Appeal to Judge                          0.017956\n",
              " Name: totalPaymentAmount, dtype: float64]"
            ]
          },
          "metadata": {},
          "execution_count": 90
        }
      ]
    },
    {
      "cell_type": "code",
      "source": [
        "corrmatrix = dforg.corr()\n",
        "sns.set(rc={'figure.figsize':(40,40)})\n",
        "sns.heatmap(corrmatrix, annot=True)"
      ],
      "metadata": {
        "colab": {
          "base_uri": "https://localhost:8080/",
          "height": 1000
        },
        "id": "aftRTqLU2vMS",
        "outputId": "1d533ec0-ad3c-4998-baef-37a0a15f8cde"
      },
      "execution_count": null,
      "outputs": [
        {
          "output_type": "execute_result",
          "data": {
            "text/plain": [
              "<matplotlib.axes._subplots.AxesSubplot at 0x7fb1d2134850>"
            ]
          },
          "metadata": {},
          "execution_count": 94
        },
        {
          "output_type": "display_data",
          "data": {
            "text/plain": [
              "<Figure size 2880x2880 with 2 Axes>"
            ],
            "image/png": "[encoded data removed]"
          },
          "metadata": {}
        }
      ]
    },
    {
      "cell_type": "code",
      "source": [
        "dforg.columns"
      ],
      "metadata": {
        "colab": {
          "base_uri": "https://localhost:8080/"
        },
        "id": "fN9EvhC3wsWY",
        "outputId": "25dc8e75-27f3-417c-9fae-931c3d4158ef"
      },
      "execution_count": 13,
      "outputs": [
        {
          "output_type": "execute_result",
          "data": {
            "text/plain": [
              "Index(['caseid', 'org:resource', 'dismissal', 'vehicleClass',\n",
              "       'totalPaymentAmount', 'duration(days)', 'article', 'expense',\n",
              "       'notificationType', 'Create Fine', 'Send Fine',\n",
              "       'Insert Fine Notification', 'Add penalty', 'Send for Credit Collection',\n",
              "       'Payment', 'Insert Date Appeal to Prefecture',\n",
              "       'Send Appeal to Prefecture', 'Receive Result Appeal from Prefecture',\n",
              "       'Notify Result Appeal to Offender', 'Appeal to Judge'],\n",
              "      dtype='object')"
            ]
          },
          "metadata": {},
          "execution_count": 13
        }
      ]
    },
    {
      "cell_type": "code",
      "source": [
        "features = ['org:resource' , 'dismissal' , 'vehicleClass' , 'duration(days)' , 'article', 'expense',\n",
        "       'notificationType', 'Create Fine', 'Send Fine',\n",
        "       'Insert Fine Notification', 'Add penalty', 'Send for Credit Collection',\n",
        "       'Payment', 'Insert Date Appeal to Prefecture',\n",
        "       'Send Appeal to Prefecture', 'Receive Result Appeal from Prefecture',\n",
        "       'Notify Result Appeal to Offender', 'Appeal to Judge']\n",
        "X = dforg.loc[:, features]\n",
        "y = dforg.loc[:, ['totalPaymentAmount']]"
      ],
      "metadata": {
        "id": "Nf_MJYlAjMG-"
      },
      "execution_count": 102,
      "outputs": []
    },
    {
      "cell_type": "code",
      "source": [
        "X_train, X_test, y_train, y_test = train_test_split(X, y, random_state=1, train_size = .75)"
      ],
      "metadata": {
        "id": "FAn7E-s7w9TJ"
      },
      "execution_count": 103,
      "outputs": []
    },
    {
      "cell_type": "code",
      "source": [
        "from sklearn.tree import DecisionTreeRegressor"
      ],
      "metadata": {
        "id": "2EeGoxf3xEVI"
      },
      "execution_count": 83,
      "outputs": []
    },
    {
      "cell_type": "code",
      "source": [
        "from sklearn import tree"
      ],
      "metadata": {
        "id": "KYeSHu3axKWT"
      },
      "execution_count": 84,
      "outputs": []
    },
    {
      "cell_type": "code",
      "source": [
        "dforg['expense'].median()"
      ],
      "metadata": {
        "colab": {
          "base_uri": "https://localhost:8080/"
        },
        "id": "ZobW9x9tbS79",
        "outputId": "b1a145bb-f532-494c-f38d-968397280ee0"
      },
      "execution_count": 69,
      "outputs": [
        {
          "output_type": "execute_result",
          "data": {
            "text/plain": [
              "11.88"
            ]
          },
          "metadata": {},
          "execution_count": 69
        }
      ]
    },
    {
      "cell_type": "code",
      "source": [
        "dforg['expense'].fillna(dforg['expense'].median() , inplace = True)"
      ],
      "metadata": {
        "id": "LmN8HYwoWAl2"
      },
      "execution_count": 99,
      "outputs": []
    },
    {
      "cell_type": "code",
      "source": [
        "dforg['expense'].unique()"
      ],
      "metadata": {
        "colab": {
          "base_uri": "https://localhost:8080/"
        },
        "id": "bKVZoxk8bC7m",
        "outputId": "d1c4c997-80ea-4173-e571-1c4f40189be6"
      },
      "execution_count": 100,
      "outputs": [
        {
          "output_type": "execute_result",
          "data": {
            "text/plain": [
              "array([11.  , 13.  , 11.88, 18.6 , 16.6 , 22.  , 24.2 , 26.  , 13.5 ,\n",
              "       19.1 , 24.7 ,  5.6 ,  0.  , 16.9 , 23.5 , 11.41,  6.71,  6.46,\n",
              "       10.  ,  4.96, 15.16, 11.62, 12.91, 16.37, 21.95, 17.04, 11.87,\n",
              "       22.2 , 13.43, 17.03, 20.32, 16.  , 15.6 , 14.25, 19.85, 15.  ,\n",
              "        5.88, 35.  , 25.  , 21.6 , 30.  , 32.  , 31.  , 16.58, 16.78,\n",
              "       26.49, 21.74, 21.33, 21.54, 22.21, 20.14, 25.31, 25.3 , 20.19,\n",
              "       13.25, 20.76, 25.48, 21.16, 33.4 , 27.8 , 25.45, 23.1 , 28.7 ,\n",
              "       24.78, 60.  , 45.  , 46.  , 16.25, 27.  , 29.8 , 16.3 , 29.1 ,\n",
              "       30.3 , 33.5 , 40.  , 76.  , 20.88, 36.88, 75.  , 33.6 , 35.88,\n",
              "       50.88, 19.3 , 26.29, 26.91, 26.7 , 28.  , 27.11, 25.92, 26.36,\n",
              "       11.6 ])"
            ]
          },
          "metadata": {},
          "execution_count": 100
        }
      ]
    },
    {
      "cell_type": "code",
      "source": [
        "dforg['expense'] = dforg['expense'].astype(float)"
      ],
      "metadata": {
        "id": "S3xWf24PYEy1"
      },
      "execution_count": null,
      "outputs": []
    },
    {
      "cell_type": "code",
      "source": [
        "dforg.dtypes"
      ],
      "metadata": {
        "id": "_W94CpEliV-n"
      },
      "execution_count": null,
      "outputs": []
    },
    {
      "cell_type": "code",
      "source": [
        "dforg.isna().any()"
      ],
      "metadata": {
        "colab": {
          "base_uri": "https://localhost:8080/"
        },
        "id": "A-nc0rUyXe13",
        "outputId": "021075f0-4469-4358-8fda-49fcf86f00d2"
      },
      "execution_count": 79,
      "outputs": [
        {
          "output_type": "execute_result",
          "data": {
            "text/plain": [
              "caseid                                   False\n",
              "org:resource                             False\n",
              "dismissal                                False\n",
              "vehicleClass                             False\n",
              "totalPaymentAmount                       False\n",
              "duration(days)                           False\n",
              "article                                  False\n",
              "expense                                  False\n",
              "notificationType                         False\n",
              "Create Fine                              False\n",
              "Send Fine                                False\n",
              "Insert Fine Notification                 False\n",
              "Add penalty                              False\n",
              "Send for Credit Collection               False\n",
              "Payment                                  False\n",
              "Insert Date Appeal to Prefecture         False\n",
              "Send Appeal to Prefecture                False\n",
              "Receive Result Appeal from Prefecture    False\n",
              "Notify Result Appeal to Offender         False\n",
              "Appeal to Judge                          False\n",
              "dtype: bool"
            ]
          },
          "metadata": {},
          "execution_count": 79
        }
      ]
    },
    {
      "cell_type": "code",
      "source": [
        "dforg.dtypes"
      ],
      "metadata": {
        "id": "6VLPHuFIX1qu"
      },
      "execution_count": null,
      "outputs": []
    },
    {
      "cell_type": "code",
      "source": [
        "from sklearn.tree import DecisionTreeClassifier"
      ],
      "metadata": {
        "id": "-DwhdGGSeGqy"
      },
      "execution_count": 86,
      "outputs": []
    },
    {
      "cell_type": "code",
      "source": [
        "X_train = X_train.astype(float)\n",
        "y_train = y_train.astype(float)\n",
        "X_test = X_test.astype(float)\n",
        "y_test = y_test.astype(float)"
      ],
      "metadata": {
        "id": "GlsZ6MIDiD4c"
      },
      "execution_count": null,
      "outputs": []
    },
    {
      "cell_type": "code",
      "source": [
        "X_train.dtypes"
      ],
      "metadata": {
        "colab": {
          "base_uri": "https://localhost:8080/"
        },
        "id": "wq49tzHQiJP0",
        "outputId": "794c9dcc-6051-4d63-d4d4-ab3a5eac6a87"
      },
      "execution_count": 98,
      "outputs": [
        {
          "output_type": "execute_result",
          "data": {
            "text/plain": [
              "org:resource                               int64\n",
              "dismissal                                  int64\n",
              "vehicleClass                               int64\n",
              "duration(days)                           float64\n",
              "article                                  float64\n",
              "expense                                   object\n",
              "notificationType                           int64\n",
              "Create Fine                              float64\n",
              "Send Fine                                float64\n",
              "Insert Fine Notification                 float64\n",
              "Add penalty                              float64\n",
              "Send for Credit Collection               float64\n",
              "Payment                                  float64\n",
              "Insert Date Appeal to Prefecture         float64\n",
              "Send Appeal to Prefecture                float64\n",
              "Receive Result Appeal from Prefecture    float64\n",
              "Notify Result Appeal to Offender         float64\n",
              "Appeal to Judge                          float64\n",
              "dtype: object"
            ]
          },
          "metadata": {},
          "execution_count": 98
        }
      ]
    },
    {
      "cell_type": "code",
      "source": [
        "clf_gini = DecisionTreeClassifier(criterion='gini', max_depth=3, random_state=0)\n",
        "clf_gini.fit(X_train,y_train)\n",
        "clf = DecisionTreeClassifier( max_depth=3, random_state=0)"
      ],
      "metadata": {
        "id": "d26k-gG3ImQn"
      },
      "execution_count": 116,
      "outputs": []
    },
    {
      "cell_type": "code",
      "source": [
        "y_pred_gini = clf_gini.predict(X_test)"
      ],
      "metadata": {
        "id": "jezwd6CwIHP9"
      },
      "execution_count": 105,
      "outputs": []
    },
    {
      "cell_type": "code",
      "source": [
        "clf.fit(X_train,y_train)"
      ],
      "metadata": {
        "colab": {
          "base_uri": "https://localhost:8080/"
        },
        "id": "uUihmqMzkTjy",
        "outputId": "374e1ff2-e98e-492a-c5fa-2fd367ed995c"
      },
      "execution_count": 117,
      "outputs": [
        {
          "output_type": "execute_result",
          "data": {
            "text/plain": [
              "DecisionTreeClassifier(max_depth=3, random_state=0)"
            ]
          },
          "metadata": {},
          "execution_count": 117
        }
      ]
    },
    {
      "cell_type": "code",
      "source": [
        "from sklearn.metrics import accuracy_score\n",
        "\n",
        "print('Model accuracy score with criterion gini index: {0:0.4f}'. format(accuracy_score(y_test, y_pred_gini)))"
      ],
      "metadata": {
        "colab": {
          "base_uri": "https://localhost:8080/"
        },
        "id": "1jKuCy6oi6Y8",
        "outputId": "89b5a264-4e83-41bc-e30a-5856c9e47698"
      },
      "execution_count": 107,
      "outputs": [
        {
          "output_type": "stream",
          "name": "stdout",
          "text": [
            "Model accuracy score with criterion gini index: 0.9269\n"
          ]
        }
      ]
    },
    {
      "cell_type": "code",
      "source": [
        "y_pred_train_gini = clf_gini.predict(X_train)\n",
        "\n",
        "y_pred_train_gini"
      ],
      "metadata": {
        "colab": {
          "base_uri": "https://localhost:8080/"
        },
        "id": "cbjUu6SWjBsg",
        "outputId": "e2093143-ce86-43ab-c256-72761f0cd762"
      },
      "execution_count": 108,
      "outputs": [
        {
          "output_type": "execute_result",
          "data": {
            "text/plain": [
              "array([0, 4, 4, ..., 1, 0, 4])"
            ]
          },
          "metadata": {},
          "execution_count": 108
        }
      ]
    },
    {
      "cell_type": "code",
      "source": [
        "print('Training set score: {:.4f}'.format(clf_gini.score(X_train, y_train)))\n",
        "\n",
        "print('Test set score: {:.4f}'.format(clf_gini.score(X_test, y_test)))"
      ],
      "metadata": {
        "colab": {
          "base_uri": "https://localhost:8080/"
        },
        "id": "PcaIfGwMjH8g",
        "outputId": "8d1d2b21-ac0c-44b7-bf7b-96072753381e"
      },
      "execution_count": 109,
      "outputs": [
        {
          "output_type": "stream",
          "name": "stdout",
          "text": [
            "Training set score: 0.9289\n",
            "Test set score: 0.9269\n"
          ]
        }
      ]
    },
    {
      "cell_type": "markdown",
      "source": [
        "Very Good Model !!!!"
      ],
      "metadata": {
        "id": "HsUa6NpLjYNE"
      }
    },
    {
      "cell_type": "code",
      "source": [
        "from matplotlib.pyplot import figure\n",
        "figure(figsize=(20, 20), dpi=80)\n",
        "tree.plot_tree(clf)\n",
        "plt.show()"
      ],
      "metadata": {
        "colab": {
          "base_uri": "https://localhost:8080/",
          "height": 1000
        },
        "id": "MVXl6NSjjbJL",
        "outputId": "56d01f6f-e381-43b8-9350-059040df37f0"
      },
      "execution_count": 118,
      "outputs": [
        {
          "output_type": "display_data",
          "data": {
            "text/plain": [
              "<Figure size 1600x1600 with 1 Axes>"
            ],
            "image/png": "[encoded data removed]"
          },
          "metadata": {
            "needs_background": "light"
          }
        }
      ]
    }
  ],
  "metadata": {
    "colab": {
      "collapsed_sections": [
        "FqgF-Aw0NXDU",
        "TgnuBX78pJG4",
        "GR9t5Wgop0M5"
      ],
      "name": "BPI DATASET ",
      "provenance": []
    },
    "kernelspec": {
      "display_name": "Python 3",
      "name": "python3"
    },
    "language_info": {
      "name": "python"
    },
    "gpuClass": "standard",
    "accelerator": "TPU"
  },
  "nbformat": 4,
  "nbformat_minor": 0
}